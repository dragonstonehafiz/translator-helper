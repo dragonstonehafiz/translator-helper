{
 "cells": [
  {
   "cell_type": "code",
   "execution_count": 9,
   "id": "f5c96f26",
   "metadata": {},
   "outputs": [],
   "source": [
    "import sys\n",
    "# This is a workaround for running the script from the parent directory\n",
    "sys.path.append('../')\n",
    "\n",
    "from src.context import analyze_format, identify_characters, summarize, determine_tone\n",
    "from src.session_setup import create_client\n",
    "import pysubs2\n",
    "import pprint"
   ]
  },
  {
   "cell_type": "code",
   "execution_count": 10,
   "id": "161af4aa",
   "metadata": {},
   "outputs": [],
   "source": [
    "import json\n",
    "json_file = open(\"../config.json\")\n",
    "json_data = json.load(json_file)"
   ]
  },
  {
   "cell_type": "code",
   "execution_count": 11,
   "id": "a0117da7",
   "metadata": {},
   "outputs": [],
   "source": [
    "client = create_client(json_data['openai_api_key'])"
   ]
  },
  {
   "cell_type": "code",
   "execution_count": 12,
   "id": "820ebac8",
   "metadata": {},
   "outputs": [
    {
     "data": {
      "text/plain": [
       "'（ゆっこ）4月1日\\nあの日、私は夕日に向かって\\n声高に叫んだ\\n俺たちの戦いは\\\\Nこれまでだぁー！\\nGOODBYE MY JUNIOR HIGH SCHOOL！\\n（みお）4月2日\\n明日は入学式\\nもうドキドキだよ\\n恥ずかしい格好出来ないよね\\n何着て行こうかな？\\nっで制服に決まってるでしょう？\\n（まい）4月3日\\n一年生\\nピカピカね\\n皆さん入学おめでとう\\nありがとう\\n（ゆっこ）4月4日\\n桜咲く\\\\N咲かせて見せよう\\\\Nホトトギス\\nゆっこ\\n（はかせ）4月5日\\nはかせは白衣\\nなぜなら博士だから\\nわーい！ボカボカ！\\n（なの）4月6日\\nこの前、はかせは一人でパジャマを\\\\N着られるようになりました\\n鼻歌を歌いながら\\\\Nパジャマを着替えて\\n満足そうな顔でVサインをしました\\nとっても偉いと思います\\nだからボタンを掛け間違えていたことは\\nしばらく内緒にしておきますね\\n（ゆっこ）4月7日\\nNEW DAY！\\n新しい学校生活が始まる\\nMY HEART EXCITING AND WONDER！\\nフューチャーに向かって\\\\Nアローみたいにフライするのは行為\\n英語で言うと\\nライトイン!ライトにインして\\\\Nバックバックで!ダイレクトキャッチ!\\n三塁ランナータッチアップして\\\\Nホームに、えっと、スライディングみたいな\\n（まい）4月8日\\n今日の仏像\\n烏枢沙摩明王\\n別名、トイレの神様\\n明日、トイレに置いておこうと思う\\n（ゆっこ）4月9日\\n明日は、待ちに待ってた\\\\Nニチヨウビ！\\nよ！待ってました！\\n憎いね！この、この！\\n（はかせ）4月10日\\n今日は反対にする日なので\\n白衣を反対に着たら\\nなのに「反対ですよ」って\\\\N直された\\n違う！\\n今日は反対の日だから\\\\N反対でいいの！\\n（ゆっこ）4月11日\\nあーMONDAY\\nどうしてあなたはMONDAY？\\n（はかせ）4月12日\\nバウムクーヘンは美味しい\\nなぜなら…丸いから\\n（なの）4月13日\\nあー！\\n昨日買っておいたバウムクーヘンがない\\nはかせと一緒に食べようと思ってたのに\\nもうはかせったら\\n食べるなら一声かけてくださいよ！\\n（笹原）4月14日\\n本日の昼食\\nあれは…前沢牛であったか？\\n焼きかけには私好みのウェルだ\\n肉本題の味を堪能できるだけでなく\\n歯応えも楽しめる\\nなかなかの美味であった\\nポークね\\\\N実にやりおるわ\\n（桜井先生）4月15日\\n先週は\\\\N何かの見間違いかと思ったけど\\nやっぱり…学校に…\\nヤギがいます\\n誰かが駐輪場で飼ってるのかしら\\nってことは…\\n買いヤギ？\\nでも放し飼いは困ります\\nどうしたらいいか\\n富岡先生に相談してみよう\\n（立花みさと）4月16日\\n全く\\nヤギで登校なんて\\\\N何考えてんのよ？\\n通学路って言っても\\n車も走る道なんだから\\n危なっかしくて\\\\Nこちがハラハラするじゃない？\\nもちろん、\\\\N自動車が心配なんだからね\\n（ゆっこ）4月17日\\nそうだ！\\\\Nフライング赤べこって歌を作ろう！\\n体験ソングとか超流行りだし\\nもう逆転ホームラン？\\nゆっこプロデュースとか語呂も最高！\\nシリーズにしておまけじゃん\\n（まい）4月18日\\nゆっこ観察メモ\\nダジャレ\\n時々ポエム\\nところにより“Selamat Pagi”\\n後頭部\\n異常なし\\n隙だらけだったので\\nイカ下足 装着\\n笑いの壺\\n＋３\\n（みお）4月19日\\nアウトだよ！\\n（ゆっこ）4月20日\\n3秒ルールは\\n魂のルール！\\n3秒お笑う者は3秒で死ぬ！\\n（まい）4月21日\\n弥勒菩薩の座り方は\\n崩した足に足がある\\nしびれて見せる\\n一瞬のジレンマとか\\nあるわけがない\\n（はかせ）4月22日\\n牛乳は\\\\Nはかせが実験で全部使いました\\n牛乳がなくなったのは\\n実験のせいです\\nここしたんじゃないです\\n（みおの姉）4月23日\\n味で攻めるか\\n香りで攻めるか\\n今週はずっとこの問題に悩んでいる\\nけれど、そんな苦労も\\\\N妹の顔を見ると\\n吹き飛んでしまうから\\n世の中不思議だ\\n（みお）4月24日\\nお姉のおかげで\\\\Nせっかくの日曜が台無しだよ\\n（校長先生）4月25日\\n月曜日\\n今朝の朝礼…\\n皆 冷たかったな\\nまだシュウアツなのに\\nもう新入生達も\\\\N在校生と同じ空気になっちゃったし\\n校長先生寂しかったな…\\nなんだか明日\\\\N学校行きたくないな\\n（ゆっこ）4月26日\\nなんでこの世には\\\\N数学なんてものがあるんだろう？\\nWHY？\\nそんな答えの見えないQUESTIONに\\n宿題が全く手につけません！\\nなので休憩！\\n気晴らしのつもりが結局筋肉バンカー\\\\N30分拡大スペシャル最後まで見ちゃった\\nもう眠い\\n睡眠不足で勉強しても\\\\Nいいことなしだと思います\\nだから宿題は明日の朝6時に\\\\N目を覚ますことができたら\\nってことで GOOD NIGHT\\nみおちゃんが宿題をやってますように…\\n（あくび）\\n（みお）4月27日\\n命！燃やし尽くして…\\nもう屍…\\n（校長先生）4月28日\\n木曜日\\n明日から3連休\\n頑張って\\\\N沢山のお笑いギャグを考えなきゃ\\n来週の朝礼も\\\\N皆を大爆笑をさせちゃおうと\\n（はかせ）4月29日\\nはかせの大冒険！\\n朝起きた\\n夜寝た\\nおしまい\\n（ゆっこ）4月30日\\nお花見を\\\\N忘れて今から\\\\N最上川\\nゆっこ'"
      ]
     },
     "execution_count": 12,
     "metadata": {},
     "output_type": "execute_result"
    }
   ],
   "source": [
    "ass_pass = \"../sample/sample3.ass\"\n",
    "subs = pysubs2.load(ass_pass)\n",
    "lines = \"\\n\".join(str(line.text) for line in subs)\n",
    "lines"
   ]
  },
  {
   "cell_type": "code",
   "execution_count": 13,
   "id": "f0d054c3",
   "metadata": {},
   "outputs": [
    {
     "name": "stdout",
     "output_type": "stream",
     "text": [
      "('The scene consists of a series of monologues delivered by multiple speakers, '\n",
      " 'with each character presenting their thoughts and experiences independently '\n",
      " 'rather than engaging in interactive dialogue. There are six identifiable '\n",
      " 'speakers: ゆっこ, みお, まい, はかせ, なの, and 笹原, along with others like 桜井先生 and '\n",
      " \"校長先生. Each speaker's lines are structured as distinct entries, often marked \"\n",
      " 'by dates, which suggests a diary-like format. The dialogue features a mix of '\n",
      " 'personal reflections, observations, and humorous remarks, but there is no '\n",
      " 'clear back-and-forth interaction between the characters. Instead, the lines '\n",
      " 'are presented as isolated statements, creating a sequence of individual '\n",
      " 'thoughts rather than a cohesive conversation.')\n"
     ]
    }
   ],
   "source": [
    "format_desc = analyze_format(client, lines, input_lang=\"ja\", target_lang=\"en\")\n",
    "pprint.pp(format_desc)"
   ]
  },
  {
   "cell_type": "code",
   "execution_count": 14,
   "id": "9861951c",
   "metadata": {},
   "outputs": [
    {
     "name": "stdout",
     "output_type": "stream",
     "text": [
      "('- Name: ゆっこ — Traits: Expressive, enthusiastic, tends to use playful and '\n",
      " 'humorous language, often the center of attention in her entries. [Narrative '\n",
      " 'Focus]\\n'\n",
      " '- Name: みお — Traits: Nervous and self-conscious about appearances, has a '\n",
      " 'caring relationship with her older sister, often reflects on social '\n",
      " 'situations.\\n'\n",
      " '- Name: まい — Traits: Observant, tends to share insights and observations '\n",
      " 'about others and situations, incorporates humor in her entries.\\n'\n",
      " '- Name: はかせ — Traits: Quirky and humorous, often involved in amusing '\n",
      " 'situations related to his role as a \"博士\" (doctor or researcher).\\n'\n",
      " '- Name: なの — Traits: Caring and supportive, often provides commentary on the '\n",
      " 'actions of others, particularly towards はかせ.\\n'\n",
      " '- Name: 笹原 — Traits: Descriptive and analytical, shares gourmet experiences, '\n",
      " 'tends to reflect on food and its quality.\\n'\n",
      " '- Name: 桜井先生 — Traits: Observational, involved in school-related matters, '\n",
      " 'addressing concerns about animals at school.\\n'\n",
      " '- Name: 立花みさと — Traits: Critical and concerned, focuses on safety issues, '\n",
      " 'particularly regarding animals on the commute.\\n'\n",
      " '- Name: 校長先生 — Traits: Reflective and emotional, often expresses feelings '\n",
      " 'related to school life and the responsibilities of leadership.\\n'\n",
      " '- Name: みおの姉 — Traits: Caring and nurturing, thinks deeply about culinary '\n",
      " 'experiences, has a strong bond with her younger sister.')\n"
     ]
    }
   ],
   "source": [
    "characters = identify_characters(client, lines, format_description=format_desc, input_lang=\"ja\", target_lang=\"en\")\n",
    "pprint.pp(characters)"
   ]
  },
  {
   "cell_type": "code",
   "execution_count": 15,
   "id": "2b1e0ba9",
   "metadata": {},
   "outputs": [
    {
     "name": "stdout",
     "output_type": "stream",
     "text": [
      "('The tone of the lines is a playful mix of excitement and humor, reflecting '\n",
      " 'youthful exuberance and personal reflections on school life. The speech '\n",
      " 'style varies from informal and enthusiastic to observational with a humorous '\n",
      " 'twist, displaying a sense of camaraderie among characters while maintaining '\n",
      " 'light-heartedness and whimsy.')\n"
     ]
    }
   ],
   "source": [
    "output = determine_tone(client, lines, format_description=format_desc, input_lang=\"ja\", target_lang=\"en\")\n",
    "pprint.pp(output)"
   ]
  },
  {
   "cell_type": "code",
   "execution_count": 16,
   "id": "4ea775e5",
   "metadata": {},
   "outputs": [
    {
     "name": "stdout",
     "output_type": "stream",
     "text": [
      "('The scene features a series of monologues from various characters reflecting '\n",
      " 'on their experiences and observations following the start of a new school '\n",
      " 'term. The entries are dated, indicating the progression of days and concerns '\n",
      " 'ranging from the excitement of a new school year to humorous anecdotes about '\n",
      " 'daily life. Characters, including ゆっこ, みお, まい, はかせ, and others, share '\n",
      " 'thoughts on school events, personal insights, and observations about animals '\n",
      " 'at school, such as a goat. The monologues encompass a variety of topics, '\n",
      " 'including school uniforms, food experiences, and lighthearted commentary on '\n",
      " \"school life. The format resembles a diary, with each character's reflections \"\n",
      " 'presented separately rather than as a conversation.')\n"
     ]
    }
   ],
   "source": [
    "output = summarize(client, lines, format_description=format_desc, character_list=characters, input_lang=\"ja\", target_lang=\"en\")\n",
    "pprint.pp(output)"
   ]
  }
 ],
 "metadata": {
  "kernelspec": {
   "display_name": "venv",
   "language": "python",
   "name": "python3"
  },
  "language_info": {
   "codemirror_mode": {
    "name": "ipython",
    "version": 3
   },
   "file_extension": ".py",
   "mimetype": "text/x-python",
   "name": "python",
   "nbconvert_exporter": "python",
   "pygments_lexer": "ipython3",
   "version": "3.11.5"
  }
 },
 "nbformat": 4,
 "nbformat_minor": 5
}
