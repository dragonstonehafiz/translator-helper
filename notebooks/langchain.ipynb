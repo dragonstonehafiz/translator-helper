{
 "cells": [
  {
   "cell_type": "code",
   "execution_count": 1,
   "id": "f5c96f26",
   "metadata": {},
   "outputs": [],
   "source": [
    "import sys\n",
    "# This is a workaround for running the script from the parent directory\n",
    "sys.path.append('../')\n",
    "\n",
    "# For loading sub file\n",
    "import pysubs2\n",
    "\n",
    "# For printing\n",
    "import pprint\n",
    "\n",
    "from langchain_openai import ChatOpenAI"
   ]
  },
  {
   "cell_type": "code",
   "execution_count": 2,
   "id": "ccfb599b",
   "metadata": {},
   "outputs": [],
   "source": [
    "import json\n",
    "json_file = open(\"../config.json\")\n",
    "json_data = json.load(json_file)\n",
    "api_key = json_data['openai_api_key']"
   ]
  },
  {
   "cell_type": "markdown",
   "id": "51112d82",
   "metadata": {},
   "source": [
    "## Scene Structure"
   ]
  },
  {
   "cell_type": "code",
   "execution_count": 3,
   "id": "96c79bb6",
   "metadata": {},
   "outputs": [
    {
     "data": {
      "text/plain": [
       "'{\\\\pos(1166,385)}今日も今日とて\\n{\\\\pos(1166,415)}俺は文芸部のホームページの\\\\N写真を撮るために\\n{\\\\pos(1166,385)}豊橋駅前に来ていた\\n{\\\\pos(1166,415)}小鞠は街中図書館にいると\\\\N聞いてきたのだが…\\n{\\\\pos(1166,385)}お いたぞ\\n{\\\\pos(1166,385)}何か調べ物をしているようだ\\n{\\\\pos(1166,385)}おい 小鞠ー\\n{\\\\pos(1166,385)}いや 待てよ\\n{\\\\pos(1166,760)}なっ\\n{\\\\pos(1166,385)}うん いい写真が撮れた\\n{\\\\pos(1166,760)}んん…なんだお前…いきなり…\\n{\\\\pos(1166,385)}ああ 文芸部のホームページ用の写真だ\\n{\\\\pos(1166,415)}自然な部員の姿と\\\\N街の光景を写真に収めたくてな\\n{\\\\pos(1166,760)}んん…温水…\\n{\\\\pos(1166,760)}そこに座れ\\n{\\\\pos(1166,385)}え\\n{\\\\pos(1166,385)}ああ\\u3000どうした？\\n{\\\\pos(1166,760)}なっ！\\n{\\\\pos(1166,760)}何で隣に来る？\\n{\\\\pos(1166,760)}か…勝手に鞄を動かすな\\n{\\\\pos(1166,415)}このテーブル大きいから\\\\N向かい合わせだと話しづらいだろう？\\n{\\\\pos(1166,415)}ここは私語禁止じゃないとは言え\\\\N一定の節度は必要だ\\n{\\\\pos(1166,760)}そ…そうか\\n{\\\\pos(1166,760)}盗撮男の言葉とは思えないな\\n{\\\\pos(1166,385)}盗撮男？\\n{\\\\pos(1166,385)}そんな奴がいるのか？\\n{\\\\pos(1166,385)}警察呼ばないと\\n{\\\\pos(1166,790)}ぶ…文芸部から\\\\N逮捕者が出るのか\\n{\\\\pos(1166,385)}ええ\\n{\\\\pos(1166,385)}盗撮男って…\\n{\\\\pos(1166,385)}ひょっとして俺のこと？\\n{\\\\pos(1166,760)}そ…そうだ\\n{\\\\pos(1166,760)}死んで償い\\n{\\\\pos(1166,385)}ハ\\n{\\\\pos(1166,385)}酷い誤解だ\\n{\\\\pos(1166,385)}むしろ誹謗中傷と言ってもいい\\n{\\\\pos(1166,760)}い…い…\\\\N言い残すことはそれだけか？\\n{\\\\pos(1166,385)}まあ聞いてくれ\\n{\\\\pos(1166,415)}俺がシャッター押した瞬間\\\\N小鞠は気配に気づいて振り向いてただろう？\\n{\\\\pos(1166,415)}つまり\\\\N小鞠は俺を認識していたのだから\\n{\\\\pos(1166,415)}盗撮の定義から\\\\N外れてるのではなかろうか\\n{\\\\pos(1166,385)}いや外れてる！\\n{\\\\pos(1166,385)}ただの正面写真みたいなものだ\\n{\\\\pos(1166,760)}ど…同意のない撮影は盗撮だ\\n{\\\\pos(1166,760)}い…異論は認めない\\n{\\\\pos(1166,385)}じゃあ ここで同意してくれ\\n{\\\\pos(1166,385)}ほら！\\n{\\\\pos(1166,385)}いい写真だぞ\\n{\\\\pos(1166,760)}ええ…え…えっと…\\n{\\\\pos(1166,760)}私 顔が映ってー\\n{\\\\pos(1166,385)}ああ 小鞠もよく撮れてるだろう？\\n{\\\\pos(1166,415)}ホームページに全世界に発信して\\\\Nこの魅力を届けないとな！\\n{\\\\pos(1166,760)}んなっ\\n{\\\\pos(1166,760)}いや…その…み…魅力って…\\n{\\\\pos(1166,415)}ここの図書館はどこに出しても\\\\N恥ずかしくないからな\\n{\\\\pos(1166,415)}地元にもこんな所があるって\\\\Nぜひ皆に見てもらわないと\\n{\\\\pos(1166,760)}と…図書館？\\n{\\\\pos(1166,385)}図書館\\n{\\\\pos(1166,415)}でもフィルターかけ忘れたから\\\\Nこの写真は使えないかな\\n{\\\\pos(1166,415)}よし これは消して\\\\Nもう一枚\\n{\\\\pos(1166,760)}し…死ね！\\n{\\\\pos(1166,385)}なぜ？\\n{\\\\pos(1166,760)}フィルターなら後からでもかけられる\\n{\\\\pos(1166,760)}スマホ見せろ\\n{\\\\pos(1166,385)}ええ そうなのか？\\n{\\\\pos(1166,760)}め…メニューの編集からいじれば\\n{\\\\pos(1166,760)}んん！温水！近い！\\n{\\\\pos(1166,385)}え…仕方ないなだろう？\\n{\\\\pos(1166,415)}俺のスマホ\\\\N覗き見防止フィルム貼ってるから\\n{\\\\pos(1166,415)}こうしないと\\\\N2人で見ないんだって\\n{\\\\pos(1166,790)}お…お前のスマホなんて\\\\N誰も見ないだろ\\n{\\\\pos(1166,385)}やれやれ\\n{\\\\pos(1166,385)}小鞠はまだそこか？\\n{\\\\pos(1166,760)}ええ？\\n{\\\\pos(1166,415)}いいか？\\\\N俺が電車で\\n{\\\\pos(1166,415)}ちょっとあれな感じの\\\\Nソシャゲをしてるの\\n{\\\\pos(1166,415)}隣に座ったお子さんに\\\\N見られるわけにはいかないだろう\\n{\\\\pos(1166,415)}ほらこのアイコンだ\\\\N少しプレイしてみるか？\\n{\\\\pos(1166,760)}お…お前…死に足りないのか？\\n{\\\\pos(1166,415)}え…なんでお前はそんなに\\\\N俺に死んでほしいんだ？\\n{\\\\pos(1166,790)}い…いいから！\\\\N用が済んだら大人しくしてろ！\\n{\\\\pos(1166,760)}作業に邪魔だ\\n{\\\\pos(1166,415)}ああ そういやさっきから\\\\N何調べてるんだ？\\n{\\\\pos(1166,760)}しょ…小説の調べ物\\n{\\\\pos(1166,790)}悪役令嬢物書くから…\\\\N服装とか…建物を調べてる\\n{\\\\pos(1166,415)}へー ちゃんと書く前に\\\\N調べてるんだな\\n{\\\\pos(1166,760)}お…お前は調べないのか？\\n{\\\\pos(1166,385)}調べてるが…\\n{\\\\pos(1166,790)}ど…どうせお前の調べ物なんて\\\\N漫画やゲームやるだけだろう\\n{\\\\pos(1166,385)}なんで分かった？\\n{\\\\pos(1166,760)}お…お前の小説を読めば分かる\\n{\\\\pos(1166,790)}な…何も調べてないから\\\\N描写も適当だし、女心も全然分かってない\\n{\\\\pos(1166,415)}ほー\\\\Nそうまで言うなら教えてもらおうか\\n{\\\\pos(1166,760)}ええ…な…何を？\\n{\\\\pos(1166,385)}俺が分かってないって言うなら\\n{\\\\pos(1166,415)}小鞠が教えてくれ\\\\N時間はたっぷりある\\n{\\\\pos(1166,760)}なっ！\\n{\\\\pos(1166,760)}え…えっと…\\n{\\\\pos(1166,760)}女心は…そ…その…\\n{\\\\pos(1166,385)}ああ？何の話だ？\\n{\\\\pos(1166,385)}せっかく図書館にいるんだし\\n{\\\\pos(1166,415)}資料の調べ方とか\\\\Nその辺を教えてくれってとこだが\\n{\\\\pos(1166,760)}ーね\\n{\\\\pos(1166,385)}え？\\n{\\\\pos(1166,760)}し…死ね！\\n{\\\\pos(1166,790)}2回目だから！\\\\N2回は死ね！\\n{\\\\pos(1166,385)}何が2回目なんだ？\\n{\\\\pos(1166,385)}ってどうした 急に立ち上がって\\n{\\\\pos(1166,790)}つ…ついてこい…\\\\Nと…図書館の使い方…教えてやる\\n{\\\\pos(1166,385)}ああ おい！\\n{\\\\pos(1166,385)}待てって！\\n{\\\\pos(1166,760)}え…えっと…\\n{\\\\pos(1166,790)}図書館の本は決まったルールで\\\\N分類が分かれてる\\n{\\\\pos(1166,760)}ほ…ほら\\n{\\\\pos(1166,790)}本の横に番号書いたシールが\\\\N貼られてる\\n{\\\\pos(1166,385)}これか？\\n{\\\\pos(1166,415)}俺の場合\\\\N分類が分かっても\\n{\\\\pos(1166,415)}そもそも何を調べていいか\\\\N分からないんだが…\\n{\\\\pos(1166,760)}ぎゃ…逆だ！\\n{\\\\pos(1166,760)}お…お前のような知恵のない人間は\\n{\\\\pos(1166,790)}分類から自分に\\\\N必要な知識を探すんだ\\n{\\\\pos(1166,385)}えっと…\\n{\\\\pos(1166,385)}つまりどういうことだ？\\n{\\\\pos(1166,790)}た…例えば お前が書いてる\\\\Nあの小説の題材はなんだ？\\n{\\\\pos(1166,385)}古い街中の再開発の是非と\\n{\\\\pos(1166,415)}それに伴う地域の繋がりの\\\\N気迫がテーマだな\\n{\\\\pos(1166,790)}あ…あのエロラブコメ…\\\\Nそんな大層なテーマだったのか？\\n{\\\\pos(1166,385)}俺が書いてるのは健全ラブコメだ\\n{\\\\pos(1166,415)}えっと…\\\\Nつまりセクシー描写を減らせというんだな\\n{\\\\pos(1166,760)}い…いや…それは…持ってやれ\\n{\\\\pos(1166,790)}そ…それはそうと…\\\\N再開発についてなら\\n{\\\\pos(1166,760)}分類番号671の商業政策\\u3000行政とか\\n{\\\\pos(1166,790)}モデルとなる町があるなら\\\\N09番台の郷土資料を探してみるのはどうだ？\\n{\\\\pos(1166,760)}ほ…本のタイトルを見るだけでもいい\\n{\\\\pos(1166,415)}なるほど、新たな視点が\\\\N捜索のヒントになるかもしれないのか\\n{\\\\pos(1166,790)}ちょ…直接ネタにならなくても\\\\N描写に厚みが出るし\\n{\\\\pos(1166,790)}そ…それにお前の小説は\\\\N商店街が舞台だろう？\\n{\\\\pos(1166,790)}673の商業系 商店も\\\\Nネタになるかもしれないぞ\\n{\\\\pos(1166,385)}へー\\u3000そんな視点もなかったな\\n{\\\\pos(1166,415)}そもそも 図書館の使い方とか\\\\N意外と知らないし\\n{\\\\pos(1166,385)}学校で教えた方がいいんじゃないか？\\n{\\\\pos(1166,760)}じゅ…授業でやったぞ\\n{\\\\pos(1166,385)}あ…\\n{\\\\pos(1166,385)}だっけ？\\n{\\\\pos(1166,440)}だが覚えてないってことは\\\\N水のように違和感なく\\\\N自分の体の一部になったってことだ\\n{\\\\pos(1166,415)}ある意味 授業の目的は\\\\N達したのではないだろうか？\\n{\\\\pos(1166,385)}ん…どうした小鞠？\\n{\\\\pos(1166,760)}お…お前最近…八奈見に似てきたな\\n{\\\\pos(1166,385)}ああ…\\n{\\\\pos(1166,385)}マジか？\\n{\\\\pos(1166,760)}は…反省しろ\\n{\\\\pos(1166,385)}反省する\\n{\\\\pos(1166,385)}怖いな…\\n{\\\\pos(1166,415)}八奈見のそばに長くいると\\\\N八奈見が移るんだ\\n{\\\\pos(1166,385)}気を付けないと\\n{\\\\pos(1166,385)}えっと…\\n{\\\\pos(1166,415)}気を取り直して\\\\N他には司書さんに相談するのもありだよな\\n{\\\\pos(1166,760)}そ…それは…最終手段だ\\n{\\\\pos(1166,385)}なんでだ？\\n{\\\\pos(1166,760)}し…知らない人に話しかけるとか…\\n{\\\\pos(1166,760)}無理\\n{\\\\pos(1166,415)}それは小鞠だけだろう\\\\N司書さん相手に知ってるとか知らないとか…\\n{\\\\pos(1166,385)}いや あるな\\n{\\\\pos(1166,760)}だ…だろ？\\n{\\\\pos(1166,415)}ああ 極論すれば\\\\N家族以外は全員知らない人だしな\\n{\\\\pos(1166,415)}俺は今まで\\\\N他人に不用意に信じすぎてたかもしれない\\n{\\\\pos(1166,760)}わ…分かればいい\\n{\\\\pos(1166,760)}う…疑え！\\n{\\\\pos(1166,385)}なんだか急に怖くなってきたぞ\\n{\\\\pos(1166,415)}いいのか？俺たちが\\\\Nこんなオシャレな図書館利用して…\\n{\\\\pos(1166,415)}職員さんに話しかけたら\\\\N防犯ブザーならされないか？\\n{\\\\pos(1166,790)}あ…安心しろ\\\\N本の貸出はセルフだし\\n{\\\\pos(1166,790)}誰とも話さなくても…\\\\Nい…いける\\n{\\\\pos(1166,385)}なら安心だな\\n{\\\\pos(1166,415)}これで俺たちも\\\\N図書館マスターというわけか\\n{\\\\pos(1166,760)}も…もう一つあるぞ\\n{\\\\pos(1166,385)}もう一つって\\n{\\\\pos(1166,790)}こ…この図書館は\\\\N席の予約が出来る\\n{\\\\pos(1166,760)}ぬ…温水 使ったことは？\\n{\\\\pos(1166,415)}いや ない\\\\N小鞠はあるのか？\\n{\\\\pos(1166,760)}な…ない\\n{\\\\pos(1166,760)}なんか…\\n{\\\\pos(1166,790)}私なんかが…\\\\Nただで借りていいのかなって\\n{\\\\pos(1166,760)}思って\\n{\\\\pos(1166,385)}分かる…\\n{\\\\pos(1166,415)}もっと必要とする人が\\\\Nいるような気がして\\n{\\\\pos(1166,385)}気後れするよな\\n{\\\\pos(1166,790)}だ…だが…\\\\N今日は…違う\\n{\\\\pos(1166,790)}お…思い切って…席を…\\\\Nよ…予約するぞ！\\n{\\\\pos(1166,415)}やるのか？\\\\N今ここで？\\n{\\\\pos(1166,760)}え…えっと…\\n{\\\\pos(1166,760)}ブース席とローンジ席は\\n{\\\\pos(1166,760)}空いてないな\\n{\\\\pos(1166,385)}カウンター席はどうだ？\\n{\\\\pos(1166,385)}横並びのとこ\\n{\\\\pos(1166,760)}え…知らないと隣同士…\\n{\\\\pos(1166,760)}怖いし\\n{\\\\pos(1166,385)}確かに敵かもしれないしな\\n{\\\\pos(1166,385)}あ\\n{\\\\pos(1166,385)}ボックス席が一つ空いてるぞ\\n{\\\\pos(1166,385)}ベンチみたいになってるとか\\n{\\\\pos(1166,760)}お…おお…\\n{\\\\pos(1166,760)}そこにしよう\\n{\\\\pos(1166,385)}えっと\\n{\\\\pos(1166,385)}ここだな\\n{\\\\pos(1166,385)}小鞠 窓側いいぞ\\n{\\\\pos(1166,760)}うぇっ！\\n{\\\\pos(1166,760)}ふ…2人で座るのか？\\n{\\\\pos(1166,385)}だってここ2人掛けだろう\\n{\\\\pos(1166,385)}ここしか空いてなかったし\\n{\\\\pos(1166,760)}そ…そう…だな…\\n{\\\\pos(1166,385)}小鞠 調べ物の続きはいいのか？\\n{\\\\pos(1166,760)}あ…後は…家で続きするし\\n{\\\\pos(1166,790)}温水こそ\\\\Nなんでスマホ見ているんだ？\\n{\\\\pos(1166,415)}ああ ほら ホームページ用の写真の\\\\Nチェックチェックしようかなって\\n{\\\\pos(1166,385)}どれを使うか決めないと\\n{\\\\pos(1166,760)}え？\\n{\\\\pos(1166,760)}先の一枚だけじゃないのか？\\n{\\\\pos(1166,415)}八奈見さんの写真も\\\\N撮らされたんだって\\n{\\\\pos(1166,415)}ほら 我ながら\\\\N結構いい出来だと思うが\\n{\\\\pos(1166,760)}水上ビルか？\\n{\\\\pos(1166,760)}や…八奈見 相変わらず食ってる\\n{\\\\pos(1166,385)}ああ 食ってたぞ\\n{\\\\pos(1166,385)}それはもう吸い込むように…\\n{\\\\pos(1166,790)}や…八奈見の写真\\\\Nやたら多いな\\n{\\\\pos(1166,415)}なんか食べてばかりで\\\\Nやたらブレるから\\n{\\\\pos(1166,385)}何度も撮り直したんだぞ\\n{\\\\pos(1166,415)}気が付くと\\\\Nカヌレはなくなるし\\n{\\\\pos(1166,385)}実に災難だった\\n{\\\\pos(1166,385)}メモリーの無駄遣いな\\n{\\\\pos(1166,760)}それに比べて…\\n{\\\\pos(1166,760)}私のは一枚か？\\n{\\\\pos(1166,385)}ああ 俺の腕だな\\n{\\\\pos(1166,760)}い…一枚…\\n{\\\\pos(1166,385)}どうした？\\n{\\\\pos(1166,790)}わ…私の写真…\\\\N少し…ブレてないか？\\n{\\\\pos(1166,790)}ほ…ほら\\\\Nこ…この辺りとか\\n{\\\\pos(1166,385)}あえて だな\\n{\\\\pos(1166,415)}かえって\\\\Nオシャレオーラが増してるだろう？\\n{\\\\pos(1166,760)}ん…えっと…\\n{\\\\pos(1166,760)}ここになんかこう…\\n{\\\\pos(1166,790)}顔みたいなものが\\\\Nう…写ってる気が…\\n{\\\\pos(1166,385)}ええ！どこ？！\\n{\\\\pos(1166,385)}ひょっとしてこれが？\\n{\\\\pos(1166,385)}確かに禍々しいオーラが…\\n{\\\\pos(1166,760)}うう そ…それは…私の足だ！\\n{\\\\pos(1166,760)}拡大するな！\\n{\\\\pos(1166,385)}ああ これじゃないのか？\\n{\\\\pos(1166,385)}あれ\\n{\\\\pos(1166,385)}最近小鞠…\\n{\\\\pos(1166,385)}少しスカート短くなったんじゃ？\\n{\\\\pos(1166,385)}いたっ！\\n{\\\\pos(1166,385)}なんで蹴るんだ？！\\n{\\\\pos(1166,760)}ぜ…全身…?????\\n{\\\\pos(1166,415)}へー\\\\Nなにその猟奇的な罵声？\\n{\\\\pos(1166,385)}この写真そんなに気に入らないのか？\\n{\\\\pos(1166,760)}そ…そういうわけじゃないけど…\\n{\\\\pos(1166,760)}そ…その…\\n{\\\\pos(1166,415)}どうした？\\\\Nなんかあるなら言ってくれ\\n{\\\\pos(1166,760)}だ…だから！\\n{\\\\pos(1166,760)}も…もう少し写真…\\n{\\\\pos(1166,760)}撮られてやってもいい\\n{\\\\pos(1166,385)}ええ なんだろう？\\n{\\\\pos(1166,385)}小鞠の奴 やけにモジモジしてるな\\n{\\\\pos(1166,385)}ちょっと可愛いが…\\n{\\\\pos(1166,385)}一体どうしたんだ？\\n{\\\\pos(1188,385)}ああ\\n{\\\\pos(1166,385)}よくわかんないけど\\n{\\\\pos(1166,385)}この一枚があれば大丈夫だって\\n{\\\\pos(1166,385)}小鞠 写真撮られるのは苦手だろう？\\n{\\\\pos(1166,760)}い…いや…\\n{\\\\pos(1166,760)}あの…\\n{\\\\pos(1166,760)}私…\\n{\\\\pos(1166,415)}そんなにこの写真嫌なら\\\\Nぼかしとか入れようか\\n{\\\\pos(1166,385)}むしろ一部ではそういう需要がー\\n{\\\\pos(1166,760)}さ…魚に食われて…\\n{\\\\pos(1166,760)}ちくわに乗れ！\\n{\\\\pos(1166,385)}ああ おい！\\n{\\\\pos(1166,385)}どこ行くんだよ？\\n{\\\\pos(1166,385)}小鞠は強引に席を立つと\\n{\\\\pos(1166,385)}速足でその場から立ち去った\\n{\\\\pos(1166,415)}あいつこれのどかが\\\\N気に入らなかったんだろう？\\n{\\\\pos(1166,415)}この写真 小鞠が可愛く\\\\N撮れてると思うんだけどな\\n'"
      ]
     },
     "execution_count": 3,
     "metadata": {},
     "output_type": "execute_result"
    }
   ],
   "source": [
    "ass_pass = \"../sample/sample2.ass\"\n",
    "subs = pysubs2.load(ass_pass)\n",
    "lines = \"\\n\".join(str(line.text) for line in subs)\n",
    "lines"
   ]
  },
  {
   "cell_type": "code",
   "execution_count": 15,
   "id": "a0d871cb",
   "metadata": {},
   "outputs": [],
   "source": [
    "from src.logic.context import determine_scene_structure\n",
    "\n",
    "llm = ChatOpenAI(model=\"gpt-4o\", temperature=json_data['temperature'], api_key=api_key)"
   ]
  },
  {
   "cell_type": "code",
   "execution_count": 16,
   "id": "fa801d56",
   "metadata": {},
   "outputs": [
    {
     "name": "stdout",
     "output_type": "stream",
     "text": [
      "('The text is structured as an interactive dialogue between two main speakers, '\n",
      " 'with occasional references to a third person. The dialogue is organized in a '\n",
      " \"back-and-forth manner, with each character responding to the other's lines, \"\n",
      " 'indicating an interactive exchange rather than isolated monologues. The '\n",
      " 'speakers are actively engaging with each other, often debating or discussing '\n",
      " 'topics, and there is a clear progression of conversation. The format does '\n",
      " 'not include narration or timestamped logs, but rather consists of direct '\n",
      " 'exchanges between the characters, suggesting a conversational scene rather '\n",
      " 'than separate reflections or monologues.')\n"
     ]
    }
   ],
   "source": [
    "format_results = determine_scene_structure(llm, 'ja', 'en', lines)\n",
    "pprint.pp(format_results)"
   ]
  },
  {
   "cell_type": "markdown",
   "id": "faf91a67",
   "metadata": {},
   "source": [
    "## Web Search"
   ]
  },
  {
   "cell_type": "code",
   "execution_count": null,
   "id": "50712c9a",
   "metadata": {},
   "outputs": [],
   "source": [
    "from langchain_community.tools.tavily_search.tool import TavilySearchResults\n",
    "from src.logic.context import gather_context_from_web"
   ]
  },
  {
   "cell_type": "code",
   "execution_count": 7,
   "id": "1c1faa18",
   "metadata": {},
   "outputs": [],
   "source": [
    "import os\n",
    "os.environ[\"TAVILY_API_KEY\"] = json_data[\"tavily_api_key\"]\n",
    "search_tool = TavilySearchResults(k=3)"
   ]
  },
  {
   "cell_type": "code",
   "execution_count": 8,
   "id": "df02338f",
   "metadata": {},
   "outputs": [
    {
     "name": "stdout",
     "output_type": "stream",
     "text": [
      "('- **Premise and Genre**: \"Too Many Losing Heroines!!!\" is an anime series '\n",
      " 'produced by A-1 Pictures, which aired its first season from July to '\n",
      " 'September 2024. The story revolves around Kazuhiko Nukumizu, a high school '\n",
      " 'student who inadvertently becomes involved with several \"losing heroines\" '\n",
      " \"after witnessing a classmate's romantic rejection.\\n\"\n",
      " '\\n'\n",
      " '- **Setting**: The series is set in a high school environment, specifically '\n",
      " 'Tsuwabuki High School, where the main characters navigate their teenage '\n",
      " 'lives and romantic entanglements.\\n'\n",
      " '\\n'\n",
      " '- **Main Characters**: The protagonist, Kazuhiko Nukumizu, is a '\n",
      " 'self-proclaimed \"background character\" who has no romantic experience. Key '\n",
      " 'characters include Anna Yanami, who is rejected by her childhood friend, and '\n",
      " 'other heroines like Chika Komari and Lemon Yakishio, who each have their own '\n",
      " 'romantic struggles.\\n'\n",
      " '\\n'\n",
      " '- **Character Dynamics**: Anna Yanami is characterized by her unrequited '\n",
      " 'love for her childhood friend, Sosuke Hakamada, while Lemon Yakishio tries '\n",
      " 'to win the affections of her childhood friend, Mitsuki Ayano. Chika Komari, '\n",
      " 'a shy literature enthusiast, has a crush on the literature club president, '\n",
      " 'Shintaro Tamaki.\\n'\n",
      " '\\n'\n",
      " '- **Themes**: The series explores themes of unrequited love and personal '\n",
      " 'growth, focusing on the so-called \"losing heroines\" who face romantic '\n",
      " 'challenges. It contrasts these characters with more typical \"winning '\n",
      " 'heroines,\" who are portrayed with depth and complexity.\\n'\n",
      " '\\n'\n",
      " '- **Format and Additional Media**: In addition to the anime, an audiobook '\n",
      " 'version of the series is available, featuring voice actors from 81 Produce. '\n",
      " 'The series has been adapted into light novels, promising further development '\n",
      " 'of its characters and themes.')\n"
     ]
    }
   ],
   "source": [
    "web_search_results = gather_context_from_web(llm, search_tool, output_lang=\"en\",\n",
    "                                             series_name=\"Too Many Losing Heroines!!!\", keywords=\"Characters\")\n",
    "\n",
    "pprint.pp(web_search_results)"
   ]
  },
  {
   "cell_type": "markdown",
   "id": "0a2a1a09",
   "metadata": {},
   "source": [
    "## Character Identification"
   ]
  },
  {
   "cell_type": "code",
   "execution_count": 9,
   "id": "b03982b0",
   "metadata": {},
   "outputs": [],
   "source": [
    "from src.logic.context import identify_characters"
   ]
  },
  {
   "cell_type": "code",
   "execution_count": 10,
   "id": "ffb5fe3f",
   "metadata": {},
   "outputs": [
    {
     "name": "stdout",
     "output_type": "stream",
     "text": [
      "('- Name: 温水 — Traits: Uses first-person pronoun \"俺,\" involved in taking '\n",
      " \"photos for the literature club's website, casual tone, seems to \"\n",
      " 'misunderstand situations, has a playful interaction with 小鞠. [Narrative '\n",
      " 'Focus]\\n'\n",
      " '- Name: 小鞠 — Traits: Engages in research for writing a novel, uses '\n",
      " 'first-person pronoun \"私,\" reacts strongly to 温水\\'s actions, shows a mix of '\n",
      " 'annoyance and shyness, referenced as being at the library.\\n'\n",
      " '- Name: 八奈見 — Traits: Mentioned in the context of being similar to 温水, '\n",
      " 'appears to be a third character who is referenced but does not actively '\n",
      " 'participate in the dialogue, associated with eating.')\n"
     ]
    }
   ],
   "source": [
    "characters_output = identify_characters(llm, input_lang=\"ja\", output_lang=\"en\",\n",
    "                                        transcript=lines, format_description=format_results, web_context=web_search_results)\n",
    "\n",
    "pprint.pp(characters_output)"
   ]
  },
  {
   "cell_type": "markdown",
   "id": "531fc72e",
   "metadata": {},
   "source": [
    "## Summarize"
   ]
  },
  {
   "cell_type": "code",
   "execution_count": 11,
   "id": "f2987899",
   "metadata": {},
   "outputs": [],
   "source": [
    "from src.logic.context import summarize_scene"
   ]
  },
  {
   "cell_type": "code",
   "execution_count": 12,
   "id": "211ccec3",
   "metadata": {},
   "outputs": [
    {
     "name": "stdout",
     "output_type": "stream",
     "text": [
      "('The scene takes place in a library, where Kazuhiko Nukumizu (referred to as '\n",
      " \"温水) is taking photos for the literature club's website. He encounters Chika \"\n",
      " 'Komari (小鞠), who is at the library conducting research for a novel she is '\n",
      " \"writing. Their interaction is marked by 温水's casual and somewhat oblivious \"\n",
      " \"behavior, as he takes photos without 小鞠's consent, leading to a playful yet \"\n",
      " 'tense exchange. 小鞠 expresses annoyance and shyness, particularly about being '\n",
      " 'photographed. The conversation touches on topics such as the use of the '\n",
      " \"library, research methods, and 温水's misunderstanding of 小鞠's reactions. 八奈見 \"\n",
      " 'is mentioned as a third character who shares similarities with 温水 but does '\n",
      " 'not actively participate in the dialogue. The scene focuses on the dynamics '\n",
      " 'between 温水 and 小鞠, highlighting their contrasting personalities.')\n"
     ]
    }
   ],
   "source": [
    "summary_output = summarize_scene(llm, input_lang=\"ja\", output_lang=\"en\",\n",
    "                                 transcript=lines, format_description=format_results, \n",
    "                                 web_context=web_search_results, character_list=characters_output)\n",
    "\n",
    "pprint.pp(summary_output)"
   ]
  },
  {
   "cell_type": "markdown",
   "id": "16a1ea89",
   "metadata": {},
   "source": [
    "## Tone"
   ]
  },
  {
   "cell_type": "code",
   "execution_count": 13,
   "id": "d5c59dec",
   "metadata": {},
   "outputs": [],
   "source": [
    "from src.logic.context import determine_tone"
   ]
  },
  {
   "cell_type": "code",
   "execution_count": 14,
   "id": "278a805b",
   "metadata": {},
   "outputs": [
    {
     "name": "stdout",
     "output_type": "stream",
     "text": [
      "('The overall tone of the scene is casual and comedic, with a playful and '\n",
      " 'teasing dynamic between the characters. The speech is informal, '\n",
      " 'characterized by blunt exchanges, light-hearted banter, and occasional '\n",
      " 'sarcasm, which suggests a close and familiar relationship between the '\n",
      " 'speakers.')\n"
     ]
    }
   ],
   "source": [
    "tone_output = determine_tone(llm, input_lang='ja', output_lang='en',\n",
    "                             transcript=lines, format_description=format_results,\n",
    "                             web_context=web_search_results)\n",
    "\n",
    "pprint.pp(tone_output)"
   ]
  }
 ],
 "metadata": {
  "kernelspec": {
   "display_name": "venv",
   "language": "python",
   "name": "python3"
  },
  "language_info": {
   "codemirror_mode": {
    "name": "ipython",
    "version": 3
   },
   "file_extension": ".py",
   "mimetype": "text/x-python",
   "name": "python",
   "nbconvert_exporter": "python",
   "pygments_lexer": "ipython3",
   "version": "3.11.5"
  }
 },
 "nbformat": 4,
 "nbformat_minor": 5
}
