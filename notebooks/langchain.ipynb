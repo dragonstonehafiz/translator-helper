{
 "cells": [
  {
   "cell_type": "code",
   "execution_count": 1,
   "id": "f5c96f26",
   "metadata": {},
   "outputs": [],
   "source": [
    "import sys\n",
    "# This is a workaround for running the script from the parent directory\n",
    "sys.path.append('../')\n",
    "\n",
    "# For loading sub file\n",
    "import pysubs2\n",
    "\n",
    "# For printing\n",
    "import pprint\n",
    "\n",
    "from langchain_openai import ChatOpenAI"
   ]
  },
  {
   "cell_type": "code",
   "execution_count": 2,
   "id": "ccfb599b",
   "metadata": {},
   "outputs": [],
   "source": [
    "import json\n",
    "json_file = open(\"../config.json\")\n",
    "json_data = json.load(json_file)\n",
    "api_key = json_data['openai_api_key']"
   ]
  },
  {
   "cell_type": "markdown",
   "id": "51112d82",
   "metadata": {},
   "source": [
    "## Scene Structure"
   ]
  },
  {
   "cell_type": "code",
   "execution_count": 3,
   "id": "96c79bb6",
   "metadata": {},
   "outputs": [
    {
     "data": {
      "text/plain": [
       "'（誘導者の残響）招かれもせずに\\\\Nワシの玉座に入ったな\\n（スロアン）ありえない…\\n（誘導者の残響）ワシは深淵から蘇りし邪神\\n最高誘導者だ\\n（スロアン）残響だ！\\nオリックスの記憶と繋がっているのか？\\n（シヴ・アラス）兄よ！\\n王よ！\\n我が誘導者よ！\\n戻ってこられたのか！\\n（誘導者の残響）シヴ・アラスか\\n我々の戦争はどうなったのだ？\\n（シヴ・アラス）あなたは空の戦士に殺された\\nそして、あなたの目前にいるのが\\\\Nその張本人だ！\\n（誘導者の残響）このワシが殺されただと？\\n（サバスン）残念ながら、噓ではない\\nお前は死んだ神の記憶に過ぎない\\nついになりたがっていた剣になることが\\\\N出来たようだな\\n（誘導者の残響）ワシはアッカの死をもって即位した\\n虫の亡骸から\\\\N玉座を造ったばかりだった\\n（シヴ・アラス）あなたの殺害者を殺せば\\nあなたの肉体は蘇る\\nあなたの玉座は復活するのだ\\n（誘導者の残響）破壊されたのであれば\\nワシは滅するべきなのだ\\nワシの継承者であり、\\\\Nワシを殺した者よ\\n進み出るのだ\\n（サバスン）二人とも大人げないぞ\\n私たちはついに\\\\N自らの道を切り開くことができる\\n（シヴ・アラス）ダメだ\\n我々を再び見捨てることは許さない！\\n（スロアン）こんなことは…ありえない！\\n一度合流しよう\\n早くそこから出るんだ！\\n（シヴ・アラス）オリックス、私があなたの仇を討つ\\n（誘導者の残響）刃を研ぐのだ\\nその噓が\\\\Nワシの論理の真実となるように！\\n（スロアン）行け\\n（シヴ・アラス）なぜ兄は再び肉と骨の姿となり\\n剣を手に持つことを拒むのだ？\\n（誘導者の残響）ワシは深淵と交信した\\nもしワシが本当に死んだのなら\\nそれまでのことだ\\nアイアット\\nお前は欺瞞者に導かれるままに\\n異端に堕ち\\n鋭さを失った\\nそんなお前が\\\\Nどんな真実を語ることができる？\\n（シヴ・アラス）不相応な話し手は罰せられ\\n偽りの偶像神は失墜し\\n我は玉座を失った\\nそしてあなたは死んだ\\n我らの背後にあるものは\\\\N全て穢れている\\n真実はこの先にある\\n捧げもの\\n剣\\nそして我が王、オリックスが\\nあなたはここに、\\\\N我と共にいる\\nこれで我々は正しい道筋に\\\\N戻ることができる\\n共に制服しようぞ\\n（誘導者の残響）ならばワシを試すがいい、妹よ\\nワシを破壊するのだ\\nまさか失敗を\\\\N恐れているわけではあるまいな\\nいや、成功を恐れているのか？\\n（シヴ・アラス）兄よ！あなたは\\\\N玉座に値しない継承者のために存在を捨てるのか\\nなぜ欺瞞者に玉座を授けるのだ？\\nそんなことは許さない！\\n（誘導者の残響）定めたはずだろう\\nより強力なものに打ち砕かれたとき\\nその者は存在に\\\\N値しないということを\\nワシは打ち砕かれた真の姿になる\\nそうすることで\\\\Nワシの論理は成立する\\nこれこそが、\\\\N永久不滅の証明なのだ\\nだがお前はそれを拒絶する\\n妹よ\\nそれこそ異端であろう\\n（サバスン）オリックス\\n目撃者は死んだ\\nお前は騙されていたんだ\\n（誘導者の残響）妹よ\\n我々は朔望を見て\\n破滅を避けようと飛び込んだ\\nワシはお前について先でーー\\n（サバスン）真実を話そう\\n神の大波はトラベラーではなかった\\n私たちは光のために選ばれ\\nそして目撃者によって\\\\N鎖で繋がれたのだ\\nでも、私ならこの茶番から\\\\N自分たちを救い出せる\\n（誘導者の残響）お前の言葉は全て偽りだ！\\n（サバスン）お前も私も、\\\\N初めから踊らされていたんだ\\n見ろ、これが私のゴースト、イマルだ\\n（誘導者の残響）光の操り人形よ！\\nワシの狡猾な妹はどこにいった？\\n妹がこのような異端を許すはずがない\\n（サバスン）では、\\\\N今の自分をどう説明する？\\nそれこそ異端ではないのか？\\n（誘導者の残響）黙れ！\\nワシの刃は切れないのか？\\nその鋭さが真実だ\\n供物ではワシの存在を\\\\N満たせないのか？\\n我々の論理は\\n力によって証明されてきたのだ\\n（サバスン）兄よ、\\\\Nお前はただの無生物だ\\nお前の刃は何も切れない\\n（誘導者の残響）こんなことは認められない！\\n全ての策略を一から解き明かし\\n真実を見つけ出す\\n独りでな！\\n（エリス・モーン）オリックスは「信念」という\\\\N己の論理の欠陥を露わにし\\n今や疑念に駆られ始めた\\n（シヴ・アラス）異端者め！\\n我が兄の玉座を\\\\N穢しに戻って来たか？\\n我と玉座はお前を拒絶する\\n兄上！\\n王よ！\\n我は郷地の郷愁を\\\\N追い求めるあなたを否定する！\\nあなたは我々の愛である\\\\N戦争を拒むのか？\\nあなたは忘れてしまったのか？\\n平穏は病であるということを！\\n（誘導者の残響）妹よ\\n我々は裏切られたのだ\\n虫を肥えさせるために\\n噓を吹き込まれた\\nワシは理解することが出来なかった\\n（シヴ・アラス）虫は我々に力を与えた\\n我々を今ある姿にしたのはあなただ\\nあなたは潜り、\\\\N翼を生やす術を学んだ！\\n我が誘導者よ！\\n我はあなたの玉座に軍を送る！\\n欺瞞者の真実によって\\nあなたが我々の道から\\\\N外れることは許さない\\n（誘導者の残響）シヴ\\n妹よ\\n我々はタオックスを討ち滅ぼし\\nオスミウムの王宮を\\\\N取り戻すと誓った\\nだが出来なかった\\nワシは自分の郷地の\\n10年という短い寿命の小魚の\\\\N後継者なのだと思っていた\\nだがまだ即位していない\\nワシは戻らねばならん\\n（シヴ・アラス）あなたの宮殿はここにある\\n深淵が新たな絆を鍛造する\\\\Nこの虫の亡骸の中に\\nそれはあなたの戦旗を掲げようと\\\\N喚起する兆しだ\\n剣を掲げるのだ\\n兄よ\\n我々の論理は力を授ける\\n征服こそが我々の悦びだ\\n我々は揺らいではならない\\nかつての我々に戻ることは\\n新たな裏切りを意味する\\nそんなことは許さない！\\n誓って言う\\n（誘導者の残響）ワシは\\\\N理解すると誓った\\n（シヴ・アラス）そして我は\\\\N自分の性を絶対に忘れないと誓った\\n我は決して刃を収めないと誓った\\nあなたはその誓いを\\\\N破れと要求するのか？\\n（誘導者の残響）お前に何かを\\\\N要求した覚えはない\\n（サバスン）お前はもうこの場所には\\\\N歓迎されていないぞ、ガーディアン\\nドレッドノートが\\\\Nそれをお前に思い知らせる\\n（シヴ・アラス）姉よ！\\n兄の思いは、\\\\Nお前の毒に侵されたのだ\\n兄が我々を見捨てたのは\\nお前の真実のせいだ\\n（サバスン）それは違う\\n今回ばかりは\\\\N私のせいにすることはできないぞ\\n兄はいつになく頑固だったからな\\nオリックスは一度決めたら、\\\\N満足するまで追究する\\nお前も知っているだろう？\\n（シヴ・アラス）兄は逃げたのは\\\\Nお前の言葉のせいだ\\nお前が我々を邪道へ導いた\\n我は力尽くでこの一族の道を正す\\n我々の神である虫は\\n力という名の真実を授けた\\n我々は誓いを立て\\n本性に背かないと約束した\\n（サバスン）厄介なのはそこだろう？\\nオリックスは理解するために降りていき\\n今になって自分が\\\\N間違っていたことに気づいた\\n思い返してみれば…\\nこうなると予見すべきだった\\n自分の享楽のために自らを\\\\N窮地に追い込んでしまった\\n哀れなシヴ・アラス\\nオリックスは死に、\\\\N存在する権利を失った\\nお前は兄を探し求め\\nエリス・モーンにさえ縋りついた！\\nそして念願の再会を果たした今\\nオリックスは異端な偽善者になり果てた\\\\Nお前を拒絶した\\n（シヴ・アラス）噓つきめ！\\n魔女の姉の言うことなど信じんぞ\\n（サバスン）わざわざお前に\\\\N噓をつくまでもない、シヴ\\n我々二人は異端者だ\\nお前は自分に噓をついている\\n（エリス・モーン）我は切っ先を持つ飢え！\\n我はーー我はーー\\n（誘導者の残響）ワシは道を裂く者\\n死を定める者\\nそして最初の誘導者だ\\nワシは自由だ！\\nアイアット！\\n（サバスン）私達の友情も\\\\Nこれまでだ、ガーディアン\\n全部振り出しだ\\n昔のよしみでとも言わせないぞ\\nお前と私はもう友ではない\\n世界を保守され、目撃者は死んだ\\n私はお前のすべての要望に答えた\\nそれなのに\\nお前は私の頼みを\\\\N聞き入れてくれないのか？\\n私の家族問題には\\\\N関わらないでほしいと言っただけなのに\\n簡単な要望だろう？\\n（誘導者の残響）\\\\Nお前の存在を感じるぞ\\nエリス・モーン\\n異端の女王よ\\n再びワシを鎖に繋ぐつもりか？\\n（エリス・モーン）目的を果たすまで\\nお前を押さえておくことはできる\\n私は今も我が武器を\\\\Nお前に向けている\\n（誘導者の残響）降伏などはせん\\nたが、ワシにはもう行き場がない\\n刃のガーディアンよ\\n星を数えたことはあるか？\\nその星々の狭間にあるものを\\n理解しているのか？\\nワシは理解すると誓ったのだ\\nだが理解出来なかった\\n今もそうだ\\nワシの誓いは\\nどれもがらんどうなのだ\\nワシは既に失敗したのだ\\nそんなワシは妹たちと同じ異端者だ\\nオリックスは遠い昔に殺された\\nもしワシがまだ\\\\Nオリックスなのであれば\\nワシは既に死んでおる\\nそしてワシが\\nオリックスではないのであれば\\nワシは生きてはおらん\\nアイアット\\nそれでいいのだ\\n少なくとも\\n星々はワシが与えた形を覚えておる…\\n（エリス・モーン）\\\\N奴の根底が噓であったことから\\n奴は自分自身を裏切ることになった\\nそれなのに\\n奴が立っていたこの世界の端は\\\\N擦り切れている\\n怪物\\n哀れな愚か者\\n兄\\nアイアット\\n（サバスン）オリックス\\n我が兄が\\n死んだ\\nいつかお前が手に入れたものが\\\\Nすべて奪われることを願う\\nそしてもし、この冷たく\\\\N無関心な世界がそうしてくれないのであれば\\n私がそうならしめてやろう\\nトラベラーの飼い犬よ\\nこれでさよならだ\\n私のことは待たなくても良いぞ\\n（シヴ・アラス）殺したな！\\n兄を殺したな！\\n我は永遠にお前と戦い続ける\\nサバスン！サソナ！姉よ！\\n我々は誘導者たる王を失った！\\n我々はまたしても兄を失った\\n（サバスン）\\\\Nそもそも我々は兄を取り戻していなかった\\nオリックスは我々と\\\\N関わることを拒んだ\\n我々の今の姿に\\\\N嫌悪感を抱いていたのだ\\n我々は変わったが、\\\\N兄は昔のままだった\\n無限の順応力を持つオリックス\\nそんな兄は過去を求めた\\nそれが\\\\Nオリックスの論理の帰着点だったからな\\n手放すんだ\\nシヴ、シオ・ロ、妹よ\\nオリックスのことはもう手放そう\\nシヴ、私は我々が\\\\N自由になることを望んでいる\\n今のお前のようにではなく\\n本当の自由を手に入れるのだ\\n（シヴ・アラス）自由でないのはお前だ！\\n虫を持たないお前は\\n偽りの神に繋がれている\\n（サバスン）\\\\Nさすがのお前でも、捧げものに\\n捧げものには大小あることを\\\\N知っているはずだ、シヴ\\n私は新境地を\\\\N切り開こうとしているのだ\\n未知の領域を\\nこう考えるといい\\n我々はどんな神にも\\\\N繋がれる必要がなくなる\\nそれが私の目指す未来だ\\n我々ならハイヴを新境地に導くことができる\\n大昔に虫に与えられた場所よりも\\n素晴らしい世界に\\nお前の世界はまたしても\\\\N崩壊しかけている\\n今に神の大波がまた襲ってくる\\nそして今回ばかりは\\n誰かに責任を擦りつけることはできない\\n噓に縋るのも\\\\Nもうすぐ終わりだ、シヴ・アラス\\nお前は波に流されてしまうだろう\\n（シヴ・アラス）全部お前のせいだ！\\n（サバスン）この世界で生きていくために\\\\N必要なことをしたまでだ\\nお前もオリックスもそうだ\\nそして今\\n我々は再び順応しなければならない'"
      ]
     },
     "execution_count": 3,
     "metadata": {},
     "output_type": "execute_result"
    }
   ],
   "source": [
    "ass_pass = \"../sample/sample4.ass\"\n",
    "subs = pysubs2.load(ass_pass)\n",
    "lines = \"\\n\".join(str(line.text) for line in subs)\n",
    "lines"
   ]
  },
  {
   "cell_type": "code",
   "execution_count": 4,
   "id": "a0d871cb",
   "metadata": {},
   "outputs": [],
   "source": [
    "from src.logic.context import determine_scene_structure\n",
    "\n",
    "llm = ChatOpenAI(model=\"gpt-4o\", temperature=json_data['temperature'], api_key=api_key)"
   ]
  },
  {
   "cell_type": "code",
   "execution_count": 5,
   "id": "fa801d56",
   "metadata": {},
   "outputs": [
    {
     "name": "stdout",
     "output_type": "stream",
     "text": [
      "('**Scene Type**: Interactive Dialogue  \\n'\n",
      " '**Speaker Count**: 3+  \\n'\n",
      " '**Interaction Style**: Characters engage in a dynamic exchange, responding '\n",
      " \"to each other's lines and addressing each other directly, indicating a \"\n",
      " 'conflict and negotiation.  \\n'\n",
      " '**Delivery Format**: Speaker-separated entries  \\n'\n",
      " '**Notes**: The dialogue involves multiple characters, including \"誘導者の残響,\" '\n",
      " '\"スロアン,\" \"シヴ・アラス,\" \"サバスン,\" and \"エリス・モーン,\" who interact with each other, '\n",
      " 'revealing a complex narrative of betrayal, power struggles, and existential '\n",
      " 'reflections.')\n"
     ]
    }
   ],
   "source": [
    "format_results = determine_scene_structure(llm, 'ja', 'en', lines)\n",
    "pprint.pp(format_results)"
   ]
  },
  {
   "cell_type": "markdown",
   "id": "faf91a67",
   "metadata": {},
   "source": [
    "## Web Search"
   ]
  },
  {
   "cell_type": "code",
   "execution_count": 6,
   "id": "50712c9a",
   "metadata": {},
   "outputs": [],
   "source": [
    "from langchain_community.tools.tavily_search.tool import TavilySearchResults\n",
    "from src.logic.context import gather_context_from_web"
   ]
  },
  {
   "cell_type": "code",
   "execution_count": 7,
   "id": "1c1faa18",
   "metadata": {},
   "outputs": [],
   "source": [
    "import os\n",
    "os.environ[\"TAVILY_API_KEY\"] = json_data[\"tavily_api_key\"]\n",
    "search_tool = TavilySearchResults(k=3)"
   ]
  },
  {
   "cell_type": "code",
   "execution_count": 8,
   "id": "df02338f",
   "metadata": {},
   "outputs": [
    {
     "name": "stdout",
     "output_type": "stream",
     "text": [
      "('**Character Relationships:** The episode \"Heresy\" in Destiny 2 involves key '\n",
      " 'characters such as Eris Morn, the Drifter, and Deputy Commander Sloane. Eris '\n",
      " 'Morn has a significant role, working with the Guardian to oppose the Hive '\n",
      " 'and imprison the Echo of Navigation and the memory of Oryx in her Throne '\n",
      " 'World. There is also a notable reunion between Eris and the Drifter.\\n'\n",
      " '\\n'\n",
      " '**Story Premise and Genre:** \"Heresy\" is part of the Destiny 2 series and is '\n",
      " 'set in a science fiction universe. The narrative focuses on a confrontation '\n",
      " 'with the Hive pantheon, including characters like Oryx, Savathûn, and Xivu '\n",
      " 'Arath, and involves returning to the Dreadnaught ship to combat Dire Taken '\n",
      " 'forces. The story is rich in lore, exploring themes of power and opposition '\n",
      " 'against dark forces.')\n"
     ]
    }
   ],
   "source": [
    "web_search_results = gather_context_from_web(llm, search_tool, output_lang=\"en\",\n",
    "                                             series_name=\"destiny 2\", keywords=\"episode heresy\", transcript=lines)\n",
    "\n",
    "pprint.pp(web_search_results)"
   ]
  },
  {
   "cell_type": "markdown",
   "id": "0a2a1a09",
   "metadata": {},
   "source": [
    "## Character Identification"
   ]
  },
  {
   "cell_type": "code",
   "execution_count": 18,
   "id": "b03982b0",
   "metadata": {},
   "outputs": [],
   "source": [
    "from src.logic.context import identify_characters"
   ]
  },
  {
   "cell_type": "code",
   "execution_count": 19,
   "id": "ffb5fe3f",
   "metadata": {},
   "outputs": [
    {
     "name": "stdout",
     "output_type": "stream",
     "text": [
      "('- **誘導者の残響**: Appears to be the spirit or echo of a once powerful entity, '\n",
      " 'possibly a god, who is now questioning their existence and role. Engages in '\n",
      " 'philosophical debate about power and existence. [Narrative Focus]\\n'\n",
      " '- **スロアン**: Expresses disbelief and urgency, possibly a character reacting '\n",
      " 'to the unfolding events and urging others to action.\\n'\n",
      " '- **シヴ・アラス**: Appears to be a loyal follower or sibling of the \"誘導者の残響,\" '\n",
      " 'advocating for revenge and restoration of power. Engages in intense dialogue '\n",
      " 'about loyalty and betrayal.\\n'\n",
      " '- **サバスン**: A character who challenges and confronts the beliefs of others, '\n",
      " 'possibly with a manipulative or insightful demeanor. Engages in debates '\n",
      " 'about truth and freedom.\\n'\n",
      " '- **エリス・モーン**: Provides commentary on the situation, possibly an observer or '\n",
      " \"someone with insight into the characters' motivations and flaws.\")\n"
     ]
    }
   ],
   "source": [
    "characters_output = identify_characters(llm, input_lang=\"ja\", output_lang=\"en\",\n",
    "                                        transcript=lines, format_description=format_results, web_context=web_search_results)\n",
    "\n",
    "pprint.pp(characters_output)"
   ]
  },
  {
   "cell_type": "markdown",
   "id": "531fc72e",
   "metadata": {},
   "source": [
    "## Summarize"
   ]
  },
  {
   "cell_type": "code",
   "execution_count": 20,
   "id": "f2987899",
   "metadata": {},
   "outputs": [],
   "source": [
    "from src.logic.context import summarize_scene"
   ]
  },
  {
   "cell_type": "code",
   "execution_count": 21,
   "id": "211ccec3",
   "metadata": {},
   "outputs": [
    {
     "name": "stdout",
     "output_type": "stream",
     "text": [
      "('**Setting**: The scene takes place in a throne room or a similar regal and '\n",
      " 'significant location, possibly within a realm associated with the Hive or '\n",
      " 'the Abyss. The environment suggests a place of power and authority, where '\n",
      " 'significant confrontations and revelations occur.\\n'\n",
      " '\\n'\n",
      " '**Main Characters**:  \\n'\n",
      " '- **誘導者の残響 (Echo of the Guide)**: The spirit or essence of a once-powerful '\n",
      " 'god, likely Oryx, who is grappling with their identity and existence.\\n'\n",
      " '- **スロアン (Sloane)**: A character expressing disbelief and urgency, likely '\n",
      " 'reacting to the unfolding events and urging others to leave or regroup.\\n'\n",
      " '- **シヴ・アラス (Siv Arath)**: A loyal follower or sibling of the Echo, focused '\n",
      " 'on revenge and restoring power, engaging in intense dialogue about loyalty '\n",
      " 'and betrayal.\\n'\n",
      " '- **サバスン (Savathûn)**: A manipulative or insightful figure challenging '\n",
      " \"others' beliefs, engaging in debates about truth and freedom.\\n\"\n",
      " '- **エリス・モーン (Eris Morn)**: An observer or commentator, providing insight '\n",
      " 'into the motivations and flaws of the characters, possibly guiding the '\n",
      " 'narrative.\\n'\n",
      " '\\n'\n",
      " '**Situation**: The scene involves a complex interaction among the '\n",
      " 'characters, primarily focused on philosophical and ideological debates. The '\n",
      " 'Echo of the Guide is confronted with their past actions and the consequences '\n",
      " \"of their beliefs. Siv Arath seeks to avenge and restore the Echo's power, \"\n",
      " 'while Savathûn challenges the established truths and suggests a new path '\n",
      " 'forward. Sloane is caught in the midst of the chaos, urging retreat or '\n",
      " 'regrouping. Eris Morn offers commentary on the unfolding events, '\n",
      " 'highlighting the flaws and motivations of those involved.\\n'\n",
      " '\\n'\n",
      " '**Themes**: The scene explores themes of power, existence, and identity, '\n",
      " 'particularly through the lens of Hive lore and the consequences of past '\n",
      " 'actions. It delves into ideas of loyalty, betrayal, and the search for '\n",
      " \"truth, with characters challenging each other's beliefs and intentions. The \"\n",
      " 'dialogue reflects a struggle between maintaining old ideologies and '\n",
      " 'embracing change or freedom.')\n"
     ]
    }
   ],
   "source": [
    "summary_output = summarize_scene(llm, input_lang=\"ja\", output_lang=\"en\",\n",
    "                                 transcript=lines, format_description=format_results, \n",
    "                                 web_context=web_search_results, character_list=characters_output)\n",
    "\n",
    "pprint.pp(summary_output)"
   ]
  },
  {
   "cell_type": "markdown",
   "id": "16a1ea89",
   "metadata": {},
   "source": [
    "## Tone"
   ]
  },
  {
   "cell_type": "code",
   "execution_count": 13,
   "id": "d5c59dec",
   "metadata": {},
   "outputs": [],
   "source": [
    "from src.logic.context import determine_tone"
   ]
  },
  {
   "cell_type": "code",
   "execution_count": 14,
   "id": "278a805b",
   "metadata": {},
   "outputs": [
    {
     "name": "stdout",
     "output_type": "stream",
     "text": [
      "('The overall tone of the scene is casual and comedic, with a playful and '\n",
      " 'teasing dynamic between the characters. The speech is informal, '\n",
      " 'characterized by blunt exchanges, light-hearted banter, and occasional '\n",
      " 'sarcasm, which suggests a close and familiar relationship between the '\n",
      " 'speakers.')\n"
     ]
    }
   ],
   "source": [
    "tone_output = determine_tone(llm, input_lang='ja', output_lang='en',\n",
    "                             transcript=lines, format_description=format_results,\n",
    "                             web_context=web_search_results)\n",
    "\n",
    "pprint.pp(tone_output)"
   ]
  }
 ],
 "metadata": {
  "kernelspec": {
   "display_name": "venv",
   "language": "python",
   "name": "python3"
  },
  "language_info": {
   "codemirror_mode": {
    "name": "ipython",
    "version": 3
   },
   "file_extension": ".py",
   "mimetype": "text/x-python",
   "name": "python",
   "nbconvert_exporter": "python",
   "pygments_lexer": "ipython3",
   "version": "3.11.5"
  }
 },
 "nbformat": 4,
 "nbformat_minor": 5
}
