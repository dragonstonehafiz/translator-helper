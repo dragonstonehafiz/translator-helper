{
 "cells": [
  {
   "cell_type": "markdown",
   "id": "aeb89f89",
   "metadata": {},
   "source": [
    "## Imports"
   ]
  },
  {
   "cell_type": "code",
   "execution_count": 1,
   "id": "f5c96f26",
   "metadata": {},
   "outputs": [],
   "source": [
    "import sys\n",
    "# This is a workaround for running the script from the parent directory\n",
    "sys.path.append('../')\n",
    "\n",
    "# For printing\n",
    "import pprint"
   ]
  },
  {
   "cell_type": "code",
   "execution_count": 2,
   "id": "deba4830",
   "metadata": {},
   "outputs": [],
   "source": [
    "from src.logic.load_models import load_gpt_model, load_web_searcher\n",
    "from src.logic.utils import load_json, load_sub_data\n",
    "from src.logic.context import generate_character_list, generate_high_level_summary, generate_web_context"
   ]
  },
  {
   "cell_type": "markdown",
   "id": "faee65bc",
   "metadata": {},
   "source": [
    "## Set up required items"
   ]
  },
  {
   "cell_type": "code",
   "execution_count": 3,
   "id": "ccfb599b",
   "metadata": {},
   "outputs": [],
   "source": [
    "json_data = load_json(\"../config.json\")\n",
    "openai_api_key = json_data['openai_api_key']\n",
    "tavily_api_key = json_data[\"tavily_api_key\"]\n",
    "\n",
    "llm = load_gpt_model(api_key=openai_api_key, temperature=0.3)\n",
    "tavily = load_web_searcher(api_key=tavily_api_key)"
   ]
  },
  {
   "cell_type": "code",
   "execution_count": 4,
   "id": "3988cdda",
   "metadata": {},
   "outputs": [
    {
     "name": "stdout",
     "output_type": "stream",
     "text": [
      "['プロデューサー: 気になっている子だが…\\\\N少し、話をしに行ってみるか。',\n",
      " 'リーリヤ: …うぅ…',\n",
      " 'リーリヤ: ど、どうしよう…',\n",
      " 'プロデューサー: お困りですか？',\n",
      " 'リーリヤ: えっ？あっ！',\n",
      " 'リーリヤ: あの…その…ええと…',\n",
      " 'プロデューサー: 失礼しました。俺はウツミ。\\\\Nプロデューサー科の生徒です。',\n",
      " 'リーリヤ: か、葛城リーリヤ、です。',\n",
      " 'リーリヤ: 驚いてしまって…ごめんなさい。',\n",
      " 'プロデューサー: いえ、突然話しかけた俺が悪いんです。\\\\Nお困りの様子だったので、つい。']\n"
     ]
    }
   ],
   "source": [
    "sub_data = load_sub_data(\"../sample/sample_sub_gakumas.ass\")\n",
    "pprint.pp(sub_data[:10])"
   ]
  },
  {
   "cell_type": "code",
   "execution_count": 5,
   "id": "c633b9af",
   "metadata": {},
   "outputs": [
    {
     "name": "stdout",
     "output_type": "stream",
     "text": [
      "('プロデューサー: 気になっている子だが…\\\\N少し、話をしに行ってみるか。\\n'\n",
      " 'リーリヤ: …うぅ…\\n'\n",
      " 'リーリヤ: ど、どうしよう…\\n'\n",
      " 'プロデューサー: お困りですか？\\n'\n",
      " 'リーリヤ: えっ？あっ！\\n'\n",
      " 'リーリヤ: あの…その…ええと…\\n'\n",
      " 'プロデューサー: 失礼しました。俺はウツミ。\\\\Nプロデューサー科の生徒です。\\n'\n",
      " 'リーリヤ: か、葛城リーリヤ、です。\\n'\n",
      " 'リーリヤ: 驚いてしまって…ごめんなさい。\\n'\n",
      " 'プロデューサー: い')\n"
     ]
    }
   ],
   "source": [
    "transcript = \"\\n\".join(sub_data)\n",
    "pprint.pp(transcript[:200])"
   ]
  },
  {
   "cell_type": "markdown",
   "id": "51112d82",
   "metadata": {},
   "source": [
    "## Testing"
   ]
  },
  {
   "cell_type": "code",
   "execution_count": 6,
   "id": "6eec91f8",
   "metadata": {},
   "outputs": [
    {
     "name": "stdout",
     "output_type": "stream",
     "text": [
      "('\"Gakuen Idolmaster\" is a fictional work centered around the lives of '\n",
      " 'aspiring idols at Hatsuboshi Gakuen. Two significant characters in this '\n",
      " 'story are Lilja Katsuragi and Sumika Shiun. Lilja is a new student from '\n",
      " 'overseas who, despite lacking experience in singing or dancing, is deeply '\n",
      " 'passionate about becoming an idol. Her determination is fueled by a promise '\n",
      " 'she made with her best friend, Sumika, to stand on stage together. Lilja is '\n",
      " 'characterized by her hard work and genuine admiration for idols, although '\n",
      " 'she often struggles with confidence.\\n'\n",
      " '\\n'\n",
      " 'Sumika Shiun, on the other hand, is a lively and energetic character known '\n",
      " 'for her carefree attitude. Despite her playful nature and tendency to skip '\n",
      " 'classes, she is a supportive friend to Lilja. Sumika has a background in '\n",
      " 'ballet but lacks the motivation to pursue it seriously. Her decision to '\n",
      " 'enroll in Hatsuboshi Gakuen was largely influenced by her promise to Lilja, '\n",
      " 'as she herself does not have a personal ambition to become an idol.\\n'\n",
      " '\\n'\n",
      " 'The relationship between Lilja and Sumika is central to the narrative, '\n",
      " 'highlighting themes of friendship and mutual support as they navigate their '\n",
      " 'journey in the idol world. Their bond is a driving force in their story, '\n",
      " \"with each character complementing the other's strengths and weaknesses.\")\n"
     ]
    }
   ],
   "source": [
    "web_context = generate_web_context(llm, tavily, \n",
    "                                   input_lang=\"ja\", output_lang='en', \n",
    "                                   series_name=\"Gakuen Idolmaster\", keywords=\"sumika, lilja\")\n",
    "pprint.pp(web_context)"
   ]
  },
  {
   "cell_type": "code",
   "execution_count": 7,
   "id": "2f53c139",
   "metadata": {},
   "outputs": [
    {
     "name": "stdout",
     "output_type": "stream",
     "text": [
      "('- **Lilja Katsuragi**: A new student from overseas aspiring to become an '\n",
      " 'idol. She lacks experience in singing and dancing but is deeply passionate '\n",
      " 'and determined, driven by a promise made with her best friend. Lilja often '\n",
      " 'struggles with confidence but shows strong will and perseverance. [Narrative '\n",
      " 'Focus]\\n'\n",
      " '\\n'\n",
      " '- **Sumika Shiun** (also referred to as \"清夏ちゃん\"): Lilja\\'s best friend, '\n",
      " 'known for her lively and carefree attitude. She has a background in ballet '\n",
      " 'but lacks motivation for idol activities. Sumika is supportive of Lilja and '\n",
      " 'influences her decision to enroll in the idol school.\\n'\n",
      " '\\n'\n",
      " '- **Producer** (also referred to as \"センパイ\" or \"ウツミ\"): A student from the '\n",
      " 'producer course who supports and guides Lilja in her journey to become an '\n",
      " 'idol. He is knowledgeable, encouraging, and plays a mentor role for Lilja.\\n'\n",
      " '\\n'\n",
      " '- **Idol Course Student A**: A student who interacts with Lilja and comments '\n",
      " 'on her situation. Provides feedback and encouragement.\\n'\n",
      " '\\n'\n",
      " '- **Idol Course Student B**: Another student who engages in conversation '\n",
      " 'with Lilja, expressing curiosity and providing feedback.\\n'\n",
      " '\\n'\n",
      " \"- **Idol Course Student C**: A student who observes Lilja's performance and \"\n",
      " 'offers encouragement.')\n"
     ]
    }
   ],
   "source": [
    "character_list = generate_character_list(llm, 'ja', 'en', transcript, web_context)\n",
    "pprint.pp(character_list)"
   ]
  },
  {
   "cell_type": "code",
   "execution_count": 7,
   "id": "fa801d56",
   "metadata": {},
   "outputs": [
    {
     "ename": "NameError",
     "evalue": "name 'character_list' is not defined",
     "output_type": "error",
     "traceback": [
      "\u001b[31m---------------------------------------------------------------------------\u001b[39m",
      "\u001b[31mNameError\u001b[39m                                 Traceback (most recent call last)",
      "\u001b[36mCell\u001b[39m\u001b[36m \u001b[39m\u001b[32mIn[7]\u001b[39m\u001b[32m, line 1\u001b[39m\n\u001b[32m----> \u001b[39m\u001b[32m1\u001b[39m high_level_summary = generate_high_level_summary(llm, \u001b[33m'\u001b[39m\u001b[33mja\u001b[39m\u001b[33m'\u001b[39m, \u001b[33m'\u001b[39m\u001b[33men\u001b[39m\u001b[33m'\u001b[39m, transcript, \u001b[43mcharacter_list\u001b[49m)\n\u001b[32m      2\u001b[39m pprint.pp(high_level_summary)\n",
      "\u001b[31mNameError\u001b[39m: name 'character_list' is not defined"
     ]
    }
   ],
   "source": [
    "high_level_summary = generate_high_level_summary(llm, 'ja', 'en', transcript, character_list)\n",
    "pprint.pp(high_level_summary)"
   ]
  },
  {
   "cell_type": "markdown",
   "id": "faf91a67",
   "metadata": {},
   "source": [
    "## Web Search"
   ]
  },
  {
   "cell_type": "code",
   "execution_count": null,
   "id": "50712c9a",
   "metadata": {},
   "outputs": [],
   "source": [
    "from langchain_community.tools.tavily_search.tool import TavilySearchResults\n",
    "from src.logic.context import generate_character_reading"
   ]
  },
  {
   "cell_type": "code",
   "execution_count": 7,
   "id": "1c1faa18",
   "metadata": {},
   "outputs": [],
   "source": [
    "import os\n",
    "os.environ[\"TAVILY_API_KEY\"] = json_data[\"tavily_api_key\"]\n",
    "search_tool = TavilySearchResults(k=3)"
   ]
  },
  {
   "cell_type": "code",
   "execution_count": null,
   "id": "df02338f",
   "metadata": {},
   "outputs": [
    {
     "name": "stdout",
     "output_type": "stream",
     "text": [
      "('**Character Relationships:** The story involves three major Hive Gods: Oryx, '\n",
      " 'Xivu Arath, and Savathun, who are central to the narrative. Eris is another '\n",
      " 'key character whose actions against Oryx lead to significant conflict, and '\n",
      " 'there is a potential alliance forming between Xivu Arath and Savathun.\\n'\n",
      " '\\n'\n",
      " '**Story Premise and Genre:** Destiny 2 is set in a science fiction universe '\n",
      " 'where players navigate through complex narratives involving gods and '\n",
      " 'mythical entities. The story in the Heresy acts focuses on themes of '\n",
      " 'betrayal, power struggles, and the uncovering of hidden truths about The '\n",
      " 'Hive and their connection to The Light.')\n"
     ]
    }
   ],
   "source": [
    "web_search_results = generate_character_reading(llm, search_tool, output_lang=\"en\",\n",
    "                                             series_name=\"destiny 2\", keywords=\"episode heresy\", transcript=lines)\n",
    "\n",
    "pprint.pp(web_search_results)"
   ]
  },
  {
   "cell_type": "markdown",
   "id": "0a2a1a09",
   "metadata": {},
   "source": [
    "## Character Identification"
   ]
  },
  {
   "cell_type": "code",
   "execution_count": null,
   "id": "b03982b0",
   "metadata": {},
   "outputs": [],
   "source": [
    "from src.logic.context import generate_character_list"
   ]
  },
  {
   "cell_type": "code",
   "execution_count": null,
   "id": "ffb5fe3f",
   "metadata": {},
   "outputs": [
    {
     "name": "stdout",
     "output_type": "stream",
     "text": [
      "('- **誘導者の残響**: The Echo of the Inducer, a resurrected dark god from the '\n",
      " 'abyss, referred to as the highest inducer. Engages in discussions about '\n",
      " 'power and identity. [Narrative Focus]\\n'\n",
      " '- **スロアン**: A character expressing disbelief and urgency, suggesting a sense '\n",
      " 'of urgency and concern.\\n'\n",
      " '- **シヴ・アラス**: Refers to the Echo of the Inducer as a brother and is deeply '\n",
      " 'involved in the dialogue about betrayal and power struggles. Shows loyalty '\n",
      " 'and determination.\\n'\n",
      " '- **サバスン**: Engages in conversations about truth and deception, challenging '\n",
      " 'the beliefs and actions of others. Appears strategic and manipulative.\\n'\n",
      " '- **エリス・モーン**: Provides commentary on the situation, pointing out flaws and '\n",
      " 'offering a perspective on the unfolding events. Seems to hold a position of '\n",
      " 'insight or observation.')\n"
     ]
    }
   ],
   "source": [
    "characters_output = generate_character_list(llm, input_lang=\"ja\", output_lang=\"en\",\n",
    "                                        transcript=lines, format_description=format_results, web_context=web_search_results)\n",
    "\n",
    "pprint.pp(characters_output)"
   ]
  },
  {
   "cell_type": "markdown",
   "id": "531fc72e",
   "metadata": {},
   "source": [
    "## Summarize"
   ]
  },
  {
   "cell_type": "code",
   "execution_count": null,
   "id": "f2987899",
   "metadata": {},
   "outputs": [],
   "source": [
    "from src.logic.context import generate_high_level_summary"
   ]
  },
  {
   "cell_type": "code",
   "execution_count": null,
   "id": "211ccec3",
   "metadata": {},
   "outputs": [
    {
     "name": "stdout",
     "output_type": "stream",
     "text": [
      "('In this scene, the Echo of the Inducer, a resurrected dark god, confronts '\n",
      " 'several characters, including Sloane, Xivu Arath, Savathun, and Eris Morn, '\n",
      " 'in a tense and dynamic exchange. The Echo grapples with its identity and the '\n",
      " 'implications of its resurrection, questioning its own existence and the '\n",
      " 'betrayal it feels. Xivu Arath shows loyalty to the Echo, urging it to '\n",
      " \"reclaim its throne through vengeance, while Savathun challenges the Echo's \"\n",
      " 'beliefs, revealing that the gods were manipulated by a greater force. '\n",
      " \"Savathun's manipulative nature is evident as she tries to sway the Echo and \"\n",
      " 'others to her perspective, suggesting a path of independence from divine '\n",
      " 'influences. Eris Morn provides commentary on the unfolding events, '\n",
      " \"highlighting the flaws in Oryx's logic and the resulting chaos. The scene is \"\n",
      " 'filled with emotional tension, as characters confront their past, their '\n",
      " 'loyalties, and the shifting power dynamics among them. Ultimately, the Echo '\n",
      " 'of the Inducer struggles with its purpose and the realization of its own '\n",
      " 'failure, leading to a climax where it acknowledges its status as an outcast, '\n",
      " 'while Xivu Arath and Savathun continue to vie for control and direction in '\n",
      " 'the face of uncertainty.')\n"
     ]
    }
   ],
   "source": [
    "summary_output = generate_high_level_summary(llm, input_lang=\"ja\", output_lang=\"en\",\n",
    "                                 transcript=lines, format_description=format_results, \n",
    "                                 web_context=web_search_results, character_list=characters_output)\n",
    "\n",
    "pprint.pp(summary_output)"
   ]
  },
  {
   "cell_type": "markdown",
   "id": "16a1ea89",
   "metadata": {},
   "source": [
    "## Tone"
   ]
  },
  {
   "cell_type": "code",
   "execution_count": 13,
   "id": "d5c59dec",
   "metadata": {},
   "outputs": [],
   "source": [
    "from src.logic.context import determine_tone"
   ]
  },
  {
   "cell_type": "code",
   "execution_count": 14,
   "id": "278a805b",
   "metadata": {},
   "outputs": [
    {
     "name": "stdout",
     "output_type": "stream",
     "text": [
      "('The overall tone of the scene is serious and intense, with a focus on themes '\n",
      " 'of power, betrayal, and existential reflection. The speech is formal and '\n",
      " 'direct, with characters often using commanding and assertive language, '\n",
      " 'reflecting their high stakes and complex relationships.')\n"
     ]
    }
   ],
   "source": [
    "tone_output = determine_tone(llm, input_lang='ja', output_lang='en',\n",
    "                             transcript=lines, format_description=format_results,\n",
    "                             web_context=web_search_results)\n",
    "\n",
    "pprint.pp(tone_output)"
   ]
  }
 ],
 "metadata": {
  "kernelspec": {
   "display_name": "venv",
   "language": "python",
   "name": "python3"
  },
  "language_info": {
   "codemirror_mode": {
    "name": "ipython",
    "version": 3
   },
   "file_extension": ".py",
   "mimetype": "text/x-python",
   "name": "python",
   "nbconvert_exporter": "python",
   "pygments_lexer": "ipython3",
   "version": "3.12.10"
  }
 },
 "nbformat": 4,
 "nbformat_minor": 5
}
