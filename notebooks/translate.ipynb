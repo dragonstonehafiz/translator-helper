{
 "cells": [
  {
   "cell_type": "markdown",
   "id": "fb048205",
   "metadata": {},
   "source": [
    "## Imports"
   ]
  },
  {
   "cell_type": "code",
   "execution_count": 1,
   "id": "0447c462",
   "metadata": {},
   "outputs": [],
   "source": [
    "from langchain_openai import ChatOpenAI\n",
    "from langchain_community.tools.tavily_search.tool import TavilySearchResults\n",
    "import sys\n",
    "# This is a workaround for running the script from the parent directory\n",
    "sys.path.append('../')\n",
    "\n",
    "import pysubs2\n",
    "import json\n",
    "import os\n",
    "import pprint"
   ]
  },
  {
   "cell_type": "code",
   "execution_count": 7,
   "id": "0cfc7f21",
   "metadata": {},
   "outputs": [],
   "source": [
    "from src.logic.context import gather_context_from_web\n",
    "from src.logic.context import identify_characters\n",
    "from src.logic.translate import translate_subs"
   ]
  },
  {
   "cell_type": "markdown",
   "id": "7c479e66",
   "metadata": {},
   "source": [
    "## Setup required items"
   ]
  },
  {
   "cell_type": "code",
   "execution_count": 8,
   "id": "f3d7365c",
   "metadata": {},
   "outputs": [],
   "source": [
    "json_file = open(\"../config.json\")\n",
    "json_data = json.load(json_file)\n",
    "api_key = json_data['openai_api_key']\n",
    "\n",
    "llm = ChatOpenAI(model=\"gpt-4o\", temperature=json_data['temperature'], api_key=api_key)\n",
    "\n",
    "os.environ[\"TAVILY_API_KEY\"] = json_data[\"tavily_api_key\"]\n",
    "search_tool = TavilySearchResults(k=3)"
   ]
  },
  {
   "cell_type": "code",
   "execution_count": 9,
   "id": "c643b2e3",
   "metadata": {},
   "outputs": [],
   "source": [
    "ass_pass = \"../sample/sample2.ass\"\n",
    "subs = pysubs2.load(ass_pass)\n",
    "lines = \"\\n\".join(str(line.text) for line in subs)"
   ]
  },
  {
   "cell_type": "markdown",
   "id": "aefb7b10",
   "metadata": {},
   "source": [
    "## Getting Context"
   ]
  },
  {
   "cell_type": "code",
   "execution_count": 10,
   "id": "b270a323",
   "metadata": {},
   "outputs": [
    {
     "name": "stdout",
     "output_type": "stream",
     "text": [
      "('**Main Characters**: Kazuhiko Nukumizu is a high school student who '\n",
      " 'considers himself a \"background character\" and becomes involved in the '\n",
      " 'romantic dramas of his classmates. Anna Yanami is a popular girl in '\n",
      " \"Kazuhiko's class who is rejected by her childhood friend Sōsuke Hakamada.\\n\"\n",
      " '\\n'\n",
      " '**Supporting Characters**: Chika Komari is a first-year student at Tsuwabuki '\n",
      " 'High School and the Vice-President of the Literature Club. She harbors '\n",
      " 'romantic feelings for the former Literature Club President, Shintaro Tamaki, '\n",
      " 'and is close friends with the former Vice-President, Koto Tsukinoki. Lemon '\n",
      " 'Yakishio is another student who struggles to connect with her childhood '\n",
      " 'friend Mitsuki Ayano.\\n'\n",
      " '\\n'\n",
      " '**Relationships**: Anna Yanami has a complicated relationship with Sōsuke '\n",
      " 'Hakamada, who chooses Karen Himemiya over her, leaving Anna dejected. '\n",
      " 'Kazuhiko, despite his lack of romantic experience, becomes entangled in '\n",
      " 'these relationship dynamics, often witnessing the rejections and emotional '\n",
      " 'turmoil of the girls around him.\\n'\n",
      " '\\n'\n",
      " '**Unclear Roles**: The role and significance of characters like Karen '\n",
      " 'Himemiya and Mitsuki Ayano are not fully detailed, leaving their impact on '\n",
      " 'the story somewhat ambiguous.')\n"
     ]
    }
   ],
   "source": [
    "web_search_results = gather_context_from_web(llm, search_tool, output_lang=\"en\",\n",
    "                                             series_name=\"too many loosing heroines\", keywords=\"komari nukumizu\", transcript=lines)\n",
    "\n",
    "pprint.pp(web_search_results)"
   ]
  },
  {
   "cell_type": "code",
   "execution_count": 12,
   "id": "e04ce8b2",
   "metadata": {},
   "outputs": [
    {
     "name": "stdout",
     "output_type": "stream",
     "text": [
      "('- **温水**: Appears to be the narrator and main character, involved in taking '\n",
      " \"photos for the literature club's homepage. Has a casual tone and interacts \"\n",
      " 'frequently with 小鞠. [Narrative Focus]\\n'\n",
      " '- **小鞠**: A character who is initially found in the library doing research '\n",
      " 'for a novel. Has a somewhat defensive and shy demeanor, especially about '\n",
      " 'being photographed. Engages in banter with 温水 and seems to be knowledgeable '\n",
      " 'about library use.\\n'\n",
      " '- **八奈見**: Mentioned in conversation, seems to be a mutual acquaintance of '\n",
      " '温水 and 小鞠. Known for eating frequently and being photographed by 温水.')\n"
     ]
    }
   ],
   "source": [
    "characters_output = identify_characters(llm, input_lang=\"ja\", output_lang=\"en\",\n",
    "                                        transcript=lines, web_context=web_search_results)\n",
    "\n",
    "pprint.pp(characters_output)"
   ]
  },
  {
   "cell_type": "code",
   "execution_count": 14,
   "id": "97f34cbf",
   "metadata": {},
   "outputs": [
    {
     "data": {
      "text/plain": [
       "{'Characters': \"- **温水**: Appears to be the narrator and main character, involved in taking photos for the literature club's homepage. Has a casual tone and interacts frequently with 小鞠. [Narrative Focus]\\n- **小鞠**: A character who is initially found in the library doing research for a novel. Has a somewhat defensive and shy demeanor, especially about being photographed. Engages in banter with 温水 and seems to be knowledgeable about library use.\\n- **八奈見**: Mentioned in conversation, seems to be a mutual acquaintance of 温水 and 小鞠. Known for eating frequently and being photographed by 温水.\",\n",
       " 'Web Search Results': '**Main Characters**: Kazuhiko Nukumizu is a high school student who considers himself a \"background character\" and becomes involved in the romantic dramas of his classmates. Anna Yanami is a popular girl in Kazuhiko\\'s class who is rejected by her childhood friend Sōsuke Hakamada.\\n\\n**Supporting Characters**: Chika Komari is a first-year student at Tsuwabuki High School and the Vice-President of the Literature Club. She harbors romantic feelings for the former Literature Club President, Shintaro Tamaki, and is close friends with the former Vice-President, Koto Tsukinoki. Lemon Yakishio is another student who struggles to connect with her childhood friend Mitsuki Ayano.\\n\\n**Relationships**: Anna Yanami has a complicated relationship with Sōsuke Hakamada, who chooses Karen Himemiya over her, leaving Anna dejected. Kazuhiko, despite his lack of romantic experience, becomes entangled in these relationship dynamics, often witnessing the rejections and emotional turmoil of the girls around him.\\n\\n**Unclear Roles**: The role and significance of characters like Karen Himemiya and Mitsuki Ayano are not fully detailed, leaving their impact on the story somewhat ambiguous.'}"
      ]
     },
     "execution_count": 14,
     "metadata": {},
     "output_type": "execute_result"
    }
   ],
   "source": [
    "context_dict = {\n",
    "    \"Characters\": characters_output,\n",
    "    \"Web Search Results\": web_search_results\n",
    "    }\n",
    "\n",
    "context_dict"
   ]
  },
  {
   "cell_type": "markdown",
   "id": "b3c96280",
   "metadata": {},
   "source": [
    "## Translating the file"
   ]
  },
  {
   "cell_type": "code",
   "execution_count": 15,
   "id": "b8c31b74",
   "metadata": {},
   "outputs": [
    {
     "name": "stderr",
     "output_type": "stream",
     "text": [
      "Translating Lines: 100%|██████████| 284/284 [05:44<00:00,  1.21s/line]\n"
     ]
    }
   ],
   "source": [
    "subs = translate_subs(llm, subs, context_dict, 3)\n",
    "\n",
    "subs.save(\"temp.ass\")"
   ]
  }
 ],
 "metadata": {
  "kernelspec": {
   "display_name": "venv",
   "language": "python",
   "name": "python3"
  },
  "language_info": {
   "codemirror_mode": {
    "name": "ipython",
    "version": 3
   },
   "file_extension": ".py",
   "mimetype": "text/x-python",
   "name": "python",
   "nbconvert_exporter": "python",
   "pygments_lexer": "ipython3",
   "version": "3.11.5"
  }
 },
 "nbformat": 4,
 "nbformat_minor": 5
}
