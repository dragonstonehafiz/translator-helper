{
 "cells": [
  {
   "cell_type": "markdown",
   "id": "fb048205",
   "metadata": {},
   "source": [
    "## Imports"
   ]
  },
  {
   "cell_type": "code",
   "execution_count": 1,
   "id": "0447c462",
   "metadata": {},
   "outputs": [],
   "source": [
    "import sys\n",
    "# This is a workaround for running the script from the parent directory\n",
    "sys.path.append('../')\n",
    "\n",
    "import pprint"
   ]
  },
  {
   "cell_type": "code",
   "execution_count": 19,
   "id": "0cfc7f21",
   "metadata": {},
   "outputs": [],
   "source": [
    "from src.logic.context import generate_character_list, generate_web_context\n",
    "from src.logic.translate import translate_subs, translate_sub, translate_multi_response\n",
    "from src.logic.load_models import load_gpt_model, load_web_searcher\n",
    "from src.logic.utils import load_json, load_sub_data"
   ]
  },
  {
   "cell_type": "markdown",
   "id": "7c479e66",
   "metadata": {},
   "source": [
    "## Setup required items"
   ]
  },
  {
   "cell_type": "code",
   "execution_count": 18,
   "id": "f3d7365c",
   "metadata": {},
   "outputs": [],
   "source": [
    "json_data = load_json(\"../config.json\")\n",
    "openai_api_key = json_data['openai_api_key']\n",
    "tavily_api_key = json_data[\"tavily_api_key\"]\n",
    "\n",
    "llm = load_gpt_model(api_key=openai_api_key)\n",
    "tavily = load_web_searcher(api_key=tavily_api_key)"
   ]
  },
  {
   "cell_type": "code",
   "execution_count": 5,
   "id": "c643b2e3",
   "metadata": {},
   "outputs": [
    {
     "name": "stdout",
     "output_type": "stream",
     "text": [
      "['誘導者の残響: （誘導者の残響）招かれもせずに\\\\Nワシの玉座に入ったな',\n",
      " 'スロアン: （スロアン）ありえない…',\n",
      " '誘導者の残響: （誘導者の残響）ワシは深淵から蘇りし邪神',\n",
      " '誘導者の残響: 最高誘導者だ',\n",
      " 'スロアン: （スロアン）残響だ！',\n",
      " 'スロアン: オリックスの記憶と繋がっているのか？',\n",
      " 'シヴ・アラス: （シヴ・アラス）兄よ！',\n",
      " 'シヴ・アラス: 王よ！',\n",
      " 'シヴ・アラス: 我が誘導者よ！',\n",
      " 'シヴ・アラス: 戻ってこられたのか！']\n"
     ]
    }
   ],
   "source": [
    "sub_data = load_sub_data(\"../sample/sample_sub_heresy.ass\")\n",
    "pprint.pp(sub_data[:10])"
   ]
  },
  {
   "cell_type": "code",
   "execution_count": 7,
   "id": "759b9a7d",
   "metadata": {},
   "outputs": [
    {
     "name": "stdout",
     "output_type": "stream",
     "text": [
      "('誘導者の残響: （誘導者の残響）招かれもせずに\\\\Nワシの玉座に入ったな\\n'\n",
      " 'スロアン: （スロアン）ありえない…\\n'\n",
      " '誘導者の残響: （誘導者の残響）ワシは深淵から蘇りし邪神\\n'\n",
      " '誘導者の残響: 最高誘導者だ\\n'\n",
      " 'スロアン: （スロアン）残響だ！\\n'\n",
      " 'スロアン: オリックスの記憶と繋がっているのか？\\n'\n",
      " 'シヴ・アラス: （シヴ・アラス）兄よ！\\n'\n",
      " 'シヴ・アラス: 王よ！\\n'\n",
      " 'シヴ・アラス: 我が誘導者よ！\\n'\n",
      " 'シヴ・アラス: 戻ってこられたのか！\\n'\n",
      " '誘導者の残響: （誘導者の残響）シヴ・アラスか\\n'\n",
      " '誘導者の残響: 我々の戦争はどうなっ')\n"
     ]
    }
   ],
   "source": [
    "transcript = \"\\n\".join(sub_data)\n",
    "pprint.pp(transcript[:250])"
   ]
  },
  {
   "cell_type": "markdown",
   "id": "aefb7b10",
   "metadata": {},
   "source": [
    "## Getting Context"
   ]
  },
  {
   "cell_type": "code",
   "execution_count": 9,
   "id": "b270a323",
   "metadata": {},
   "outputs": [
    {
     "name": "stdout",
     "output_type": "stream",
     "text": [
      "('\"Destiny 2: Episode Heresy\" delves into the intricate relationships and '\n",
      " 'power dynamics among key characters in the Destiny universe, focusing on the '\n",
      " 'Hive deities and their interactions with Eris Morn. Central to this '\n",
      " 'narrative are the Hive siblings: Oryx, Xivu Arath, and Savathun. Oryx, known '\n",
      " 'as the Taken King, is a formidable figure who once wielded immense power '\n",
      " 'before being defeated by Guardians. His influence continues to loom over the '\n",
      " 'narrative, impacting the actions of his siblings.\\n'\n",
      " '\\n'\n",
      " 'Xivu Arath, the Hive God of War, is driven by a relentless pursuit of '\n",
      " 'conflict and conquest. Her presence in the story underscores the ongoing '\n",
      " 'threat of Hive expansion and the perpetual cycle of war they propagate. In '\n",
      " 'contrast, Savathun, the Witch Queen, is characterized by her cunning and '\n",
      " 'deceit. She is a master manipulator, often weaving complex plots to achieve '\n",
      " 'her ends, and her machinations are a significant focus in the storyline.\\n'\n",
      " '\\n'\n",
      " 'Eris Morn, a former Guardian, plays a crucial role in navigating the '\n",
      " 'treacherous waters of Hive politics. Having survived the horrors of the Hive '\n",
      " 'and emerged with a deep understanding of their ways, Eris serves as a guide '\n",
      " 'and ally to the Guardians. Her knowledge and experience are invaluable in '\n",
      " 'countering the threats posed by the Hive siblings and their dark ambitions. '\n",
      " 'Together, these characters create a rich tapestry of conflict and intrigue, '\n",
      " 'driving the narrative of \"Destiny 2: Episode Heresy.\"')\n"
     ]
    }
   ],
   "source": [
    "web_search_results = generate_web_context(llm, tavily, series_name=\"destiny 2 episode heresy\", keywords=\"oryx, xivu arath, savathun, eris morn\",\n",
    "                                          input_lang=\"ja\", output_lang=\"en\")\n",
    "\n",
    "pprint.pp(web_search_results)"
   ]
  },
  {
   "cell_type": "code",
   "execution_count": 10,
   "id": "e04ce8b2",
   "metadata": {},
   "outputs": [
    {
     "name": "stdout",
     "output_type": "stream",
     "text": [
      "('- **Oryx** (referred to as \"誘導者の残響\"): A central figure in the narrative, '\n",
      " 'also known as the Taken King. He was a powerful Hive deity who was killed by '\n",
      " 'Guardians but continues to influence events as a lingering presence. His '\n",
      " 'focus is on the logic of power and the consequences of his past actions. '\n",
      " '[Narrative Focus]\\n'\n",
      " '\\n'\n",
      " '- **Xivu Arath** (referred to as \"シヴ・アラス\"): Known as the Hive God of War, '\n",
      " 'she is driven by conflict and conquest. Xivu Arath is loyal to Oryx and '\n",
      " 'seeks to avenge him, emphasizing the importance of war and power.\\n'\n",
      " '\\n'\n",
      " '- **Savathun** (referred to as \"サバスン\"): Known as the Witch Queen, she is '\n",
      " 'characterized by cunning and deceit. Savathun manipulates the narrative and '\n",
      " 'challenges the beliefs of her siblings, advocating for a future free from '\n",
      " 'the constraints of their past.\\n'\n",
      " '\\n'\n",
      " '- **Eris Morn** (referred to as \"エリス・モーン\"): A former Guardian who has a deep '\n",
      " 'understanding of Hive politics. Eris serves as a guide and ally, countering '\n",
      " \"the Hive siblings' threats with her knowledge and experience.\\n\"\n",
      " '\\n'\n",
      " '- **Sloane** (referred to as \"スロアン\"): A character who expresses disbelief '\n",
      " 'and urgency in the situation, urging others to regroup and escape.\\n'\n",
      " '\\n'\n",
      " \"These characters are central to the narrative's exploration of power \"\n",
      " \"dynamics and the Hive's internal conflicts.\")\n"
     ]
    }
   ],
   "source": [
    "characters_output = generate_character_list(llm, input_lang=\"ja\", output_lang=\"en\",\n",
    "                                            transcript=transcript, web_context=web_search_results)\n",
    "\n",
    "pprint.pp(characters_output)"
   ]
  },
  {
   "cell_type": "code",
   "execution_count": 13,
   "id": "97f34cbf",
   "metadata": {},
   "outputs": [
    {
     "data": {
      "text/plain": [
       "{'Characters': '- **Oryx** (referred to as \"誘導者の残響\"): A central figure in the narrative, also known as the Taken King. He was a powerful Hive deity who was killed by Guardians but continues to influence events as a lingering presence. His focus is on the logic of power and the consequences of his past actions. [Narrative Focus]\\n\\n- **Xivu Arath** (referred to as \"シヴ・アラス\"): Known as the Hive God of War, she is driven by conflict and conquest. Xivu Arath is loyal to Oryx and seeks to avenge him, emphasizing the importance of war and power.\\n\\n- **Savathun** (referred to as \"サバスン\"): Known as the Witch Queen, she is characterized by cunning and deceit. Savathun manipulates the narrative and challenges the beliefs of her siblings, advocating for a future free from the constraints of their past.\\n\\n- **Eris Morn** (referred to as \"エリス・モーン\"): A former Guardian who has a deep understanding of Hive politics. Eris serves as a guide and ally, countering the Hive siblings\\' threats with her knowledge and experience.\\n\\n- **Sloane** (referred to as \"スロアン\"): A character who expresses disbelief and urgency in the situation, urging others to regroup and escape.\\n\\nThese characters are central to the narrative\\'s exploration of power dynamics and the Hive\\'s internal conflicts.'}"
      ]
     },
     "execution_count": 13,
     "metadata": {},
     "output_type": "execute_result"
    }
   ],
   "source": [
    "context_dict = {\n",
    "    \"Characters\": characters_output\n",
    "    }\n",
    "\n",
    "context_dict"
   ]
  },
  {
   "cell_type": "markdown",
   "id": "b3c96280",
   "metadata": {},
   "source": [
    "## Translating"
   ]
  },
  {
   "cell_type": "code",
   "execution_count": 16,
   "id": "b8c31b74",
   "metadata": {},
   "outputs": [
    {
     "name": "stdout",
     "output_type": "stream",
     "text": [
      "You have entered my throne uninvited.\n"
     ]
    }
   ],
   "source": [
    "translation = translate_sub(llm, sub_data[0], context=context_dict,\n",
    "                            input_lang=\"ja\", target_lang=\"en\")\n",
    "print(translation)"
   ]
  },
  {
   "cell_type": "code",
   "execution_count": 23,
   "id": "fc3dea51",
   "metadata": {},
   "outputs": [],
   "source": [
    "from langchain_openai import ChatOpenAI\n",
    "from langchain_core.messages import SystemMessage, HumanMessage\n",
    "\n",
    "def translate_multi_response(llm: ChatOpenAI, text: str, context: dict = None,\n",
    "                             input_lang: str = \"ja\", target_lang: str = \"en\") -> str:\n",
    "    \"\"\"\n",
    "    Perform structured translation using a LangChain ChatOpenAI model.\n",
    "\n",
    "    Parameters:\n",
    "    - llm: LangChain ChatOpenAI instance\n",
    "    - text: Source language input\n",
    "    - context: Optional dict of context information (e.g., scene_structure, characters, tone)\n",
    "    - input_lang: Source language code (default 'ja')\n",
    "    - target_lang: Target language code (default 'en')\n",
    "\n",
    "    Returns:\n",
    "    - A markdown-formatted translation response as a string\n",
    "    \"\"\"\n",
    "\n",
    "    context_lines = []\n",
    "    for key, value in context.items():\n",
    "        context_lines.append(f\"- {key}: {value}\")\n",
    "    context_block = \"\\n\".join(context_lines) or \"No additional context was provided.\"\n",
    "\n",
    "    system_prompt = f\"\"\"\n",
    "    # Role\n",
    "\n",
    "    You are a professional assistant for translators working with {input_lang} source material.  \n",
    "    Your job is to produce accurate translations and detailed linguistic annotations without interpretation.\n",
    "\n",
    "    ## Instructions\n",
    "\n",
    "    Translate the following {input_lang} text into {target_lang}, and provide two versions:\n",
    "\n",
    "    1. **Naturalized Translation** — a fluent, idiomatic version that sounds natural in {target_lang}.  \n",
    "    2. **Annotated Translation** — a readable version with in-depth notes on:\n",
    "       - word choices and dictionary meanings\n",
    "       - particles and grammar structures\n",
    "       - honorifics and levels of formality\n",
    "       - sentence structure and function words\n",
    "\n",
    "    Do **not** infer tone, speaker identity, emotion, or cultural subtext.  \n",
    "    Your goal is to explain what each word/phrase is doing linguistically — not what it might imply.\n",
    "\n",
    "    ### Context\n",
    "\n",
    "    {context_block}\n",
    "\n",
    "    ## Output Format\n",
    "\n",
    "    Respond in markdown with this format:\n",
    "\n",
    "    **Naturalized Translation**  \n",
    "    [text]\n",
    "\n",
    "    **Annotated Translation**  \n",
    "    [text with precise linguistic notes]\n",
    "    \"\"\".strip()\n",
    "\n",
    "    messages = [\n",
    "        SystemMessage(content=system_prompt),\n",
    "        HumanMessage(content=text.strip())\n",
    "    ]\n",
    "\n",
    "    response = llm.invoke(messages)\n",
    "    return response.content"
   ]
  },
  {
   "cell_type": "code",
   "execution_count": 24,
   "id": "9c665e15",
   "metadata": {},
   "outputs": [
    {
     "name": "stdout",
     "output_type": "stream",
     "text": [
      "**Naturalized Translation**  \n",
      "Oryx, the Echo of the Guide: (Oryx, the Echo of the Guide) You've entered my throne uninvited.\n",
      "\n",
      "**Annotated Translation**  \n",
      "Oryx, the Echo of the Guide: （誘導者の残響）招かれもせずに\\Nワシの玉座に入ったな  \n",
      "- **誘導者の残響** (Yūdōsha no Zankyō): \"Echo of the Guide.\"  \n",
      "  - **誘導者** (Yūdōsha): \"Guide\" or \"Conductor,\" referring to someone who leads or directs.  \n",
      "  - **残響** (Zankyō): \"Echo,\" indicating a lingering presence or influence.\n",
      "- **招かれもせずに** (Manekare mo sezu ni): \"Uninvited\" or \"Without being invited.\"  \n",
      "  - **招かれ** (Manekare): Passive form of \"invite\" (招く, maneku), meaning \"invited.\"  \n",
      "  - **もせずに** (Mo sezu ni): A negative form combined with \"ni,\" indicating \"without doing\" or \"without having done.\"\n",
      "- **ワシの玉座** (Washi no gyokuza): \"My throne.\"  \n",
      "  - **ワシ** (Washi): An informal or archaic first-person pronoun meaning \"I\" or \"my,\" often used by older males or characters of authority.  \n",
      "  - **玉座** (Gyokuza): \"Throne,\" indicating a seat of power or authority.\n",
      "- **に入ったな** (Ni haitta na): \"Have entered\" or \"Entered, haven't you?\"  \n",
      "  - **に** (Ni): Particle indicating direction or location, here used to show the destination \"into the throne.\"  \n",
      "  - **入った** (Haitta): Past tense of \"enter\" (入る, hairu), meaning \"entered.\"  \n",
      "  - **な** (Na): Sentence-ending particle used for emphasis or to seek confirmation, similar to \"isn't it?\" or \"haven't you?\"\n"
     ]
    }
   ],
   "source": [
    "translation = translate_multi_response(llm, sub_data[0], context=context_dict,\n",
    "                                       input_lang=\"ja\", target_lang=\"en\")\n",
    "print(translation)"
   ]
  }
 ],
 "metadata": {
  "kernelspec": {
   "display_name": "venv",
   "language": "python",
   "name": "python3"
  },
  "language_info": {
   "codemirror_mode": {
    "name": "ipython",
    "version": 3
   },
   "file_extension": ".py",
   "mimetype": "text/x-python",
   "name": "python",
   "nbconvert_exporter": "python",
   "pygments_lexer": "ipython3",
   "version": "3.12.10"
  }
 },
 "nbformat": 4,
 "nbformat_minor": 5
}
