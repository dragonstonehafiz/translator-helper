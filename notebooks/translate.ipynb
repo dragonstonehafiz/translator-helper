{
 "cells": [
  {
   "cell_type": "markdown",
   "id": "fb048205",
   "metadata": {},
   "source": [
    "## Imports"
   ]
  },
  {
   "cell_type": "code",
   "execution_count": 2,
   "id": "0447c462",
   "metadata": {},
   "outputs": [],
   "source": [
    "import sys\n",
    "# This is a workaround for running the script from the parent directory\n",
    "sys.path.append('../')\n",
    "\n",
    "import pprint"
   ]
  },
  {
   "cell_type": "code",
   "execution_count": null,
   "id": "0cfc7f21",
   "metadata": {},
   "outputs": [],
   "source": [
    "from src.logic.context import generate_character_reading\n",
    "from src.logic.context import generate_character_list\n",
    "from src.logic.translate import translate_subs\n",
    "from src.logic.load_models import load_gpt_model, load_web_searcher\n",
    "from src.logic.utils import load_json, load_sub_data"
   ]
  },
  {
   "cell_type": "markdown",
   "id": "7c479e66",
   "metadata": {},
   "source": [
    "## Setup required items"
   ]
  },
  {
   "cell_type": "code",
   "execution_count": null,
   "id": "f3d7365c",
   "metadata": {},
   "outputs": [],
   "source": [
    "json_data = load_json(\"../config.json\")\n",
    "openai_api_key = json_data['openai_api_key']\n",
    "tavily_api_key = json_data[\"tavily_api_key\"]\n",
    "\n",
    "llm = load_gpt_model(api_key=openai_api_key)\n",
    "tavily = load_web_searcher(api_key=tavily_api_key)"
   ]
  },
  {
   "cell_type": "code",
   "execution_count": null,
   "id": "c643b2e3",
   "metadata": {},
   "outputs": [
    {
     "name": "stdout",
     "output_type": "stream",
     "text": [
      "['プロデューサー: 気になっている子だが…\\\\N少し、話をしに行ってみるか。',\n",
      " 'リーリヤ: …うぅ…',\n",
      " 'リーリヤ: ど、どうしよう…',\n",
      " 'プロデューサー: お困りですか？',\n",
      " 'リーリヤ: えっ？あっ！',\n",
      " 'リーリヤ: あの…その…ええと…',\n",
      " 'プロデューサー: 失礼しました。俺はウツミ。\\\\Nプロデューサー科の生徒です。',\n",
      " 'リーリヤ: か、葛城リーリヤ、です。',\n",
      " 'リーリヤ: 驚いてしまって…ごめんなさい。',\n",
      " 'プロデューサー: いえ、突然話しかけた俺が悪いんです。\\\\Nお困りの様子だったので、つい。']\n"
     ]
    }
   ],
   "source": [
    "sub_data = load_sub_data(\"../sample/sample_sub_gakumas.ass\")\n",
    "pprint.pp(sub_data[:10])"
   ]
  },
  {
   "cell_type": "code",
   "execution_count": 1,
   "id": "759b9a7d",
   "metadata": {},
   "outputs": [
    {
     "ename": "NameError",
     "evalue": "name 'sub_data' is not defined",
     "output_type": "error",
     "traceback": [
      "\u001b[31m---------------------------------------------------------------------------\u001b[39m",
      "\u001b[31mNameError\u001b[39m                                 Traceback (most recent call last)",
      "\u001b[36mCell\u001b[39m\u001b[36m \u001b[39m\u001b[32mIn[1]\u001b[39m\u001b[32m, line 1\u001b[39m\n\u001b[32m----> \u001b[39m\u001b[32m1\u001b[39m transcript = \u001b[33m\"\u001b[39m\u001b[38;5;130;01m\\n\u001b[39;00m\u001b[33m\"\u001b[39m.join(\u001b[43msub_data\u001b[49m)\n",
      "\u001b[31mNameError\u001b[39m: name 'sub_data' is not defined"
     ]
    }
   ],
   "source": [
    "transcript = \"\\n\".join(sub_data)"
   ]
  },
  {
   "cell_type": "markdown",
   "id": "aefb7b10",
   "metadata": {},
   "source": [
    "## Getting Context"
   ]
  },
  {
   "cell_type": "code",
   "execution_count": null,
   "id": "b270a323",
   "metadata": {},
   "outputs": [
    {
     "name": "stdout",
     "output_type": "stream",
     "text": [
      "('**Main Characters**: Kazuhiko Nukumizu is a high school student who '\n",
      " 'considers himself a \"background character\" and becomes involved in the '\n",
      " 'romantic dramas of his classmates. Anna Yanami is a popular girl in '\n",
      " \"Kazuhiko's class who is rejected by her childhood friend Sōsuke Hakamada.\\n\"\n",
      " '\\n'\n",
      " '**Supporting Characters**: Chika Komari is a first-year student at Tsuwabuki '\n",
      " 'High School and the Vice-President of the Literature Club. She harbors '\n",
      " 'romantic feelings for the former Literature Club President, Shintaro Tamaki, '\n",
      " 'and is close friends with the former Vice-President, Koto Tsukinoki. Lemon '\n",
      " 'Yakishio is another student who struggles to connect with her childhood '\n",
      " 'friend Mitsuki Ayano.\\n'\n",
      " '\\n'\n",
      " '**Relationships**: Anna Yanami has a complicated relationship with Sōsuke '\n",
      " 'Hakamada, who chooses Karen Himemiya over her, leaving Anna dejected. '\n",
      " 'Kazuhiko, despite his lack of romantic experience, becomes entangled in '\n",
      " 'these relationship dynamics, often witnessing the rejections and emotional '\n",
      " 'turmoil of the girls around him.\\n'\n",
      " '\\n'\n",
      " '**Unclear Roles**: The role and significance of characters like Karen '\n",
      " 'Himemiya and Mitsuki Ayano are not fully detailed, leaving their impact on '\n",
      " 'the story somewhat ambiguous.')\n"
     ]
    }
   ],
   "source": [
    "web_search_results = generate_character_reading(llm, tavily, output_lang=\"en\",\n",
    "                                             series_name=\"too many loosing heroines\", keywords=\"komari nukumizu\", transcript=lines)\n",
    "\n",
    "pprint.pp(web_search_results)"
   ]
  },
  {
   "cell_type": "code",
   "execution_count": null,
   "id": "e04ce8b2",
   "metadata": {},
   "outputs": [
    {
     "name": "stdout",
     "output_type": "stream",
     "text": [
      "('- **温水**: Appears to be the narrator and main character, involved in taking '\n",
      " \"photos for the literature club's homepage. Has a casual tone and interacts \"\n",
      " 'frequently with 小鞠. [Narrative Focus]\\n'\n",
      " '- **小鞠**: A character who is initially found in the library doing research '\n",
      " 'for a novel. Has a somewhat defensive and shy demeanor, especially about '\n",
      " 'being photographed. Engages in banter with 温水 and seems to be knowledgeable '\n",
      " 'about library use.\\n'\n",
      " '- **八奈見**: Mentioned in conversation, seems to be a mutual acquaintance of '\n",
      " '温水 and 小鞠. Known for eating frequently and being photographed by 温水.')\n"
     ]
    }
   ],
   "source": [
    "characters_output = generate_character_list(llm, input_lang=\"ja\", output_lang=\"en\",\n",
    "                                        transcript=lines, web_context=web_search_results)\n",
    "\n",
    "pprint.pp(characters_output)"
   ]
  },
  {
   "cell_type": "code",
   "execution_count": 14,
   "id": "97f34cbf",
   "metadata": {},
   "outputs": [
    {
     "data": {
      "text/plain": [
       "{'Characters': \"- **温水**: Appears to be the narrator and main character, involved in taking photos for the literature club's homepage. Has a casual tone and interacts frequently with 小鞠. [Narrative Focus]\\n- **小鞠**: A character who is initially found in the library doing research for a novel. Has a somewhat defensive and shy demeanor, especially about being photographed. Engages in banter with 温水 and seems to be knowledgeable about library use.\\n- **八奈見**: Mentioned in conversation, seems to be a mutual acquaintance of 温水 and 小鞠. Known for eating frequently and being photographed by 温水.\",\n",
       " 'Web Search Results': '**Main Characters**: Kazuhiko Nukumizu is a high school student who considers himself a \"background character\" and becomes involved in the romantic dramas of his classmates. Anna Yanami is a popular girl in Kazuhiko\\'s class who is rejected by her childhood friend Sōsuke Hakamada.\\n\\n**Supporting Characters**: Chika Komari is a first-year student at Tsuwabuki High School and the Vice-President of the Literature Club. She harbors romantic feelings for the former Literature Club President, Shintaro Tamaki, and is close friends with the former Vice-President, Koto Tsukinoki. Lemon Yakishio is another student who struggles to connect with her childhood friend Mitsuki Ayano.\\n\\n**Relationships**: Anna Yanami has a complicated relationship with Sōsuke Hakamada, who chooses Karen Himemiya over her, leaving Anna dejected. Kazuhiko, despite his lack of romantic experience, becomes entangled in these relationship dynamics, often witnessing the rejections and emotional turmoil of the girls around him.\\n\\n**Unclear Roles**: The role and significance of characters like Karen Himemiya and Mitsuki Ayano are not fully detailed, leaving their impact on the story somewhat ambiguous.'}"
      ]
     },
     "execution_count": 14,
     "metadata": {},
     "output_type": "execute_result"
    }
   ],
   "source": [
    "context_dict = {\n",
    "    \"Characters\": characters_output,\n",
    "    \"Web Search Results\": web_search_results\n",
    "    }\n",
    "\n",
    "context_dict"
   ]
  },
  {
   "cell_type": "markdown",
   "id": "b3c96280",
   "metadata": {},
   "source": [
    "## Translating the file"
   ]
  },
  {
   "cell_type": "code",
   "execution_count": 15,
   "id": "b8c31b74",
   "metadata": {},
   "outputs": [
    {
     "name": "stderr",
     "output_type": "stream",
     "text": [
      "Translating Lines: 100%|██████████| 284/284 [05:44<00:00,  1.21s/line]\n"
     ]
    }
   ],
   "source": [
    "subs = translate_subs(llm, subs, context_dict, 3)\n",
    "\n",
    "subs.save(\"temp.ass\")"
   ]
  }
 ],
 "metadata": {
  "kernelspec": {
   "display_name": "venv",
   "language": "python",
   "name": "python3"
  },
  "language_info": {
   "codemirror_mode": {
    "name": "ipython",
    "version": 3
   },
   "file_extension": ".py",
   "mimetype": "text/x-python",
   "name": "python",
   "nbconvert_exporter": "python",
   "pygments_lexer": "ipython3",
   "version": "3.12.10"
  }
 },
 "nbformat": 4,
 "nbformat_minor": 5
}
