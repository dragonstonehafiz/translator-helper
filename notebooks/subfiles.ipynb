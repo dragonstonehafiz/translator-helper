{
 "cells": [
  {
   "cell_type": "code",
   "execution_count": 22,
   "id": "d3a15079",
   "metadata": {},
   "outputs": [],
   "source": [
    "\n",
    "import pysubs2\n",
    "import sys\n",
    "# This is a workaround for running the script from the parent directory\n",
    "sys.path.append('../')\n",
    "from pprint import pprint\n",
    "import re\n",
    "from pysubs2.ssafile import SSAFile"
   ]
  },
  {
   "cell_type": "code",
   "execution_count": 27,
   "id": "4611b656",
   "metadata": {},
   "outputs": [],
   "source": [
    "def print_subs(subs):\n",
    "    for i in range(len(subs)):\n",
    "        print(f\"Line {i}: {subs[i].text}\")"
   ]
  },
  {
   "cell_type": "code",
   "execution_count": null,
   "id": "7d835e19",
   "metadata": {},
   "outputs": [],
   "source": [
    "def remove_characters_indication(subs: SSAFile, lang=\"jp\", output_path=\"output.ass\"):\n",
    "    if lang == \"jp\":\n",
    "        regex_pattern = r'^（[^）]+）\\\\N'\n",
    "    else:\n",
    "        regex_pattern = r'^\\([^）]+\\)\\\\N'\n",
    "    \n",
    "    for line in subs:\n",
    "        text = line.text\n",
    "        cleaned_line = re.sub(regex_pattern, '', text)\n",
    "        line.text = cleaned_line.strip()\n",
    "    \n",
    "    subs.save(output_path)"
   ]
  },
  {
   "cell_type": "code",
   "execution_count": 35,
   "id": "4cfe17be",
   "metadata": {},
   "outputs": [],
   "source": [
    "def remove_text_positioning(subs: SSAFile, output_path=\"output.ass\"):\n",
    "    for line in subs:\n",
    "        text = line.text\n",
    "        cleaned = re.sub(r\"{\\\\pos\\([^}]+\\)}\", \"\", text)\n",
    "        line.text = cleaned.strip()\n",
    "        print(line.text)\n",
    "        \n",
    "    subs.save(output_path)"
   ]
  },
  {
   "cell_type": "code",
   "execution_count": null,
   "id": "d04f8d8d",
   "metadata": {},
   "outputs": [],
   "source": [
    "ass_pass = \"../sample/02 隠し撮りにはご用心.en.ass\"\n",
    "subs = pysubs2.load(ass_pass)"
   ]
  },
  {
   "cell_type": "code",
   "execution_count": 34,
   "id": "2b8f64df",
   "metadata": {},
   "outputs": [],
   "source": [
    "# print_subs(subs)\n",
    "# remove_characters_indication(subs, \"en\")\n",
    "remove_text_positioning(subs)"
   ]
  }
 ],
 "metadata": {
  "kernelspec": {
   "display_name": "venv",
   "language": "python",
   "name": "python3"
  },
  "language_info": {
   "codemirror_mode": {
    "name": "ipython",
    "version": 3
   },
   "file_extension": ".py",
   "mimetype": "text/x-python",
   "name": "python",
   "nbconvert_exporter": "python",
   "pygments_lexer": "ipython3",
   "version": "3.12.10"
  }
 },
 "nbformat": 4,
 "nbformat_minor": 5
}
