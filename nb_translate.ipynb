{
 "cells": [
  {
   "cell_type": "code",
   "execution_count": 1,
   "metadata": {},
   "outputs": [],
   "source": [
    "import openai\n",
    "from src.translate import create_client, translate, grade"
   ]
  },
  {
   "cell_type": "code",
   "execution_count": 2,
   "metadata": {},
   "outputs": [],
   "source": [
    "client = create_client()"
   ]
  },
  {
   "cell_type": "code",
   "execution_count": 12,
   "metadata": {},
   "outputs": [
    {
     "name": "stdout",
     "output_type": "stream",
     "text": [
      "Is Komari still there?\n",
      "Is Komari still at that place?\n",
      "Is Komari still hanging around there?\n",
      "Is Komari still over there?\n",
      "Is Komari still stuck there?\n"
     ]
    }
   ],
   "source": [
    "text = \"コマリはまだそこか\"\n",
    "response = translate(client, text, model=\"gpt-4o\")\n",
    "\n",
    "print(response)"
   ]
  },
  {
   "cell_type": "code",
   "execution_count": null,
   "metadata": {},
   "outputs": [
    {
     "name": "stdout",
     "output_type": "stream",
     "text": [
      "Accuracy: 9 - The translation accurately conveys the meaning of the original text, maintaining the sense of discretion about the child's perception.\n",
      "\n",
      "Fluency: 10 - The translation is natural and grammatically correct, seamlessly fitting into English conversational style.\n",
      "\n",
      "Cultural Appropriateness: 10 - The translation makes no cultural missteps as the scenario of discretion around children is universally understood.\n",
      "\n",
      "Average Score: 9.67\n"
     ]
    }
   ],
   "source": [
    "original_text = \"隣に座ったお子さんにられるわけにはいかないだろう\"\n",
    "translated_text = \"I can't let the kid sitting next to me see it, right?\"\n",
    "response = grade(client, original_text, translated_text, model=\"gpt-4o\")\n",
    "\n",
    "print(response)"
   ]
  }
 ],
 "metadata": {
  "kernelspec": {
   "display_name": "venv",
   "language": "python",
   "name": "python3"
  },
  "language_info": {
   "codemirror_mode": {
    "name": "ipython",
    "version": 3
   },
   "file_extension": ".py",
   "mimetype": "text/x-python",
   "name": "python",
   "nbconvert_exporter": "python",
   "pygments_lexer": "ipython3",
   "version": "3.11.5"
  }
 },
 "nbformat": 4,
 "nbformat_minor": 2
}
