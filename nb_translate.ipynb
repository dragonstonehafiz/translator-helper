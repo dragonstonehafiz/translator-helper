{
 "cells": [
  {
   "cell_type": "code",
   "execution_count": 1,
   "metadata": {},
   "outputs": [],
   "source": [
    "import openai\n",
    "from src.translate import create_client, translate, grade"
   ]
  },
  {
   "cell_type": "code",
   "execution_count": 2,
   "metadata": {},
   "outputs": [],
   "source": [
    "client = create_client()"
   ]
  },
  {
   "cell_type": "code",
   "execution_count": 8,
   "metadata": {},
   "outputs": [
    {
     "name": "stdout",
     "output_type": "stream",
     "text": [
      "I really want everyone to see that we have places like this in our hometown.\n",
      "I can't wait to show everyone that there's a spot like this in our local area.\n",
      "I want to make sure everyone knows about this amazing place we have here.\n",
      "I wish everyone could see this gem we have in our area.\n",
      "I want everyone to know we've got such a cool spot right here back home.\n"
     ]
    }
   ],
   "source": [
    "text = \"地元にもこんな所があるってぜひ皆に見てもらわない\"\n",
    "response = translate(client, text, model=\"gpt-4o\")\n",
    "\n",
    "print(response)"
   ]
  },
  {
   "cell_type": "code",
   "execution_count": 3,
   "metadata": {},
   "outputs": [
    {
     "name": "stdout",
     "output_type": "stream",
     "text": [
      "Grade: 8\n",
      "\n",
      "Explanation:\n",
      "The translation captures the core idea of the original Japanese text, maintaining the intention to highlight a unique aspect of a hometown to others. However, it slightly alters the phrasing. The original text has a more personal and enthusiastic tone, encouraging people to see the place, as opposed to simply showing it to them. The fluency in English is good, but the connection between \"hometown\" and \"地元\" might slightly shift the emphasis in terms of cultural reference, as \"地元\" can mean a local area rather than strictly what \"hometown\" suggests in English. Overall, it is a strong translation but could better capture the nuances and enthusiasm present in the original message.\n"
     ]
    }
   ],
   "source": [
    "original_text = \"地元にもこんな所があるってぜひ皆に見てもらわない\"\n",
    "translated_text = \"We need to show everyone thatthere's this sort of place in their hometown.\"\n",
    "response = grade(client, original_text, translated_text, model=\"gpt-4o\")\n",
    "\n",
    "print(response)"
   ]
  }
 ],
 "metadata": {
  "kernelspec": {
   "display_name": "venv",
   "language": "python",
   "name": "python3"
  },
  "language_info": {
   "codemirror_mode": {
    "name": "ipython",
    "version": 3
   },
   "file_extension": ".py",
   "mimetype": "text/x-python",
   "name": "python",
   "nbconvert_exporter": "python",
   "pygments_lexer": "ipython3",
   "version": "3.11.5"
  }
 },
 "nbformat": 4,
 "nbformat_minor": 2
}
