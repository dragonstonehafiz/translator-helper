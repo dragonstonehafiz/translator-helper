{
 "cells": [
  {
   "cell_type": "code",
   "execution_count": 1,
   "metadata": {},
   "outputs": [],
   "source": [
    "import openai\n",
    "from src.translate import create_client, translate"
   ]
  },
  {
   "cell_type": "code",
   "execution_count": 2,
   "metadata": {},
   "outputs": [],
   "source": [
    "client = create_client()"
   ]
  },
  {
   "cell_type": "code",
   "execution_count": null,
   "metadata": {},
   "outputs": [
    {
     "name": "stdout",
     "output_type": "stream",
     "text": [
      "While this isn't a strict no-talk zone, a certain level of decorum is necessary.  \n",
      "Even though casual conversation isn't banned here, some level of respect is required.  \n",
      "Though this place doesn't prohibit personal chatter, maintaining a degree of decorum is important.  \n",
      "It's not exactly a no-talking area, but a bit of propriety is needed.  \n",
      "While personal talk isn’t exactly barred, it's crucial to uphold a certain standard of behavior.\n"
     ]
    }
   ],
   "source": [
    "text = \"盗撮男の言葉とは思えないな\"\n",
    "response = translate(client, text, model=\"gpt-4o\")\n",
    "\n",
    "print(response)"
   ]
  }
 ],
 "metadata": {
  "kernelspec": {
   "display_name": "venv",
   "language": "python",
   "name": "python3"
  },
  "language_info": {
   "codemirror_mode": {
    "name": "ipython",
    "version": 3
   },
   "file_extension": ".py",
   "mimetype": "text/x-python",
   "name": "python",
   "nbconvert_exporter": "python",
   "pygments_lexer": "ipython3",
   "version": "3.11.5"
  }
 },
 "nbformat": 4,
 "nbformat_minor": 2
}
